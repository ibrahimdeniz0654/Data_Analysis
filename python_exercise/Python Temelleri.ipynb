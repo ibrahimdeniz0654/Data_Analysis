{
 "cells": [
  {
   "cell_type": "markdown",
   "id": "5d643609",
   "metadata": {
    "cell_style": "split",
    "toc": true
   },
   "source": [
    "<h1>Table of Contents<span class=\"tocSkip\"></span></h1>\n",
    "<div class=\"toc\"><ul class=\"toc-item\"><li><span><a href=\"#Başlangıç\" data-toc-modified-id=\"Başlangıç-1\"><span class=\"toc-item-num\">1&nbsp;&nbsp;</span>Başlangıç</a></span></li><li><span><a href=\"#elif-Statements\" data-toc-modified-id=\"elif-Statements-2\"><span class=\"toc-item-num\">2&nbsp;&nbsp;</span>elif Statements</a></span></li><li><span><a href=\"#Boolean-Or\" data-toc-modified-id=\"Boolean-Or-3\"><span class=\"toc-item-num\">3&nbsp;&nbsp;</span>Boolean Or</a></span></li><li><span><a href=\"#Boolean-Not\" data-toc-modified-id=\"Boolean-Not-4\"><span class=\"toc-item-num\">4&nbsp;&nbsp;</span>Boolean Not</a></span></li><li><span><a href=\"#Chaining-Multiple-Conditions\" data-toc-modified-id=\"Chaining-Multiple-Conditions-5\"><span class=\"toc-item-num\">5&nbsp;&nbsp;</span>Chaining Multiple Conditions</a></span></li><li><span><a href=\"#Lists\" data-toc-modified-id=\"Lists-6\"><span class=\"toc-item-num\">6&nbsp;&nbsp;</span>Lists</a></span></li><li><span><a href=\"#List-Functions\" data-toc-modified-id=\"List-Functions-7\"><span class=\"toc-item-num\">7&nbsp;&nbsp;</span>List Functions</a></span></li></ul></div>"
   ]
  },
  {
   "cell_type": "markdown",
   "id": "84b21ae2",
   "metadata": {},
   "source": [
    "# Başlangıç"
   ]
  },
  {
   "cell_type": "markdown",
   "id": "2e7d54d4",
   "metadata": {},
   "source": [
    "\n",
    "Strings & Variables http://Sololearn.com/learning/1073/4434/9530/\n",
    "\n"
   ]
  },
  {
   "cell_type": "code",
   "execution_count": 1,
   "id": "08f774ea",
   "metadata": {},
   "outputs": [
    {
     "name": "stdout",
     "output_type": "stream",
     "text": [
      "10\n",
      "\n"
     ]
    }
   ],
   "source": [
    "x = input()\n",
    "print()"
   ]
  },
  {
   "cell_type": "code",
   "execution_count": 2,
   "id": "c34346ea",
   "metadata": {},
   "outputs": [
    {
     "ename": "SyntaxError",
     "evalue": "EOL while scanning string literal (<ipython-input-2-0ba56c349de7>, line 2)",
     "output_type": "error",
     "traceback": [
      "\u001b[1;36m  File \u001b[1;32m\"<ipython-input-2-0ba56c349de7>\"\u001b[1;36m, line \u001b[1;32m2\u001b[0m\n\u001b[1;33m    print (Hello, \" + name)\u001b[0m\n\u001b[1;37m                           ^\u001b[0m\n\u001b[1;31mSyntaxError\u001b[0m\u001b[1;31m:\u001b[0m EOL while scanning string literal\n"
     ]
    }
   ],
   "source": [
    "name = input(\"Endter your name: \")\n",
    "print (Hello, \" + name)"
   ]
  },
  {
   "cell_type": "markdown",
   "id": "41c695ce",
   "metadata": {},
   "source": [
    "SyntaxError : EOl while scannign string literal : bu hatayı Print için de tırnak kullanmadığım için aldım.\n"
   ]
  },
  {
   "cell_type": "code",
   "execution_count": 3,
   "id": "50b8be10",
   "metadata": {},
   "outputs": [
    {
     "name": "stdout",
     "output_type": "stream",
     "text": [
      "Enter your name : 10\n",
      "Hello, 10\n"
     ]
    }
   ],
   "source": [
    "name = input(\"Enter your name : \")\n",
    "print (\"Hello, \" + name)# print yazıncı hemen parantez aç kapa içine string bir değişken yazılacak ise mutlaka mutlaka tırnak \"\" ''"
   ]
  },
  {
   "cell_type": "code",
   "execution_count": 4,
   "id": "f3e34fc0",
   "metadata": {},
   "outputs": [
    {
     "ename": "NameError",
     "evalue": "name 'inpput' is not defined",
     "output_type": "error",
     "traceback": [
      "\u001b[1;31m---------------------------------------------------------------------------\u001b[0m",
      "\u001b[1;31mNameError\u001b[0m                                 Traceback (most recent call last)",
      "\u001b[1;32m<ipython-input-4-525afe88c149>\u001b[0m in \u001b[0;36m<module>\u001b[1;34m\u001b[0m\n\u001b[1;32m----> 1\u001b[1;33m \u001b[0mage\u001b[0m \u001b[1;33m=\u001b[0m \u001b[0mint\u001b[0m\u001b[1;33m(\u001b[0m\u001b[0minpput\u001b[0m\u001b[1;33m(\u001b[0m\u001b[1;33m)\u001b[0m\u001b[1;33m)\u001b[0m\u001b[1;33m\u001b[0m\u001b[1;33m\u001b[0m\u001b[0m\n\u001b[0m\u001b[0;32m      2\u001b[0m \u001b[0mprint\u001b[0m\u001b[1;33m(\u001b[0m\u001b[0mage\u001b[0m\u001b[1;33m)\u001b[0m\u001b[1;33m\u001b[0m\u001b[1;33m\u001b[0m\u001b[0m\n",
      "\u001b[1;31mNameError\u001b[0m: name 'inpput' is not defined"
     ]
    }
   ],
   "source": [
    "age = int(inpput())\n",
    "print(age)"
   ]
  },
  {
   "cell_type": "markdown",
   "id": "a23a0338",
   "metadata": {},
   "source": [
    "Hızlı yazarken inpput yani giriş metot ismini yanlış yazdım metot isimleri yanlış yazılınca NameError veriyor."
   ]
  },
  {
   "cell_type": "code",
   "execution_count": 5,
   "id": "406540fe",
   "metadata": {},
   "outputs": [
    {
     "name": "stdout",
     "output_type": "stream",
     "text": [
      "\n"
     ]
    },
    {
     "ename": "ValueError",
     "evalue": "invalid literal for int() with base 10: ''",
     "output_type": "error",
     "traceback": [
      "\u001b[1;31m---------------------------------------------------------------------------\u001b[0m",
      "\u001b[1;31mValueError\u001b[0m                                Traceback (most recent call last)",
      "\u001b[1;32m<ipython-input-5-4593e7f4e2cf>\u001b[0m in \u001b[0;36m<module>\u001b[1;34m\u001b[0m\n\u001b[1;32m----> 1\u001b[1;33m \u001b[0mage\u001b[0m \u001b[1;33m=\u001b[0m \u001b[0mint\u001b[0m\u001b[1;33m(\u001b[0m\u001b[0minput\u001b[0m\u001b[1;33m(\u001b[0m\u001b[1;33m)\u001b[0m\u001b[1;33m)\u001b[0m\u001b[1;33m\u001b[0m\u001b[1;33m\u001b[0m\u001b[0m\n\u001b[0m\u001b[0;32m      2\u001b[0m \u001b[0mprint\u001b[0m\u001b[1;33m(\u001b[0m\u001b[0mage\u001b[0m\u001b[1;33m)\u001b[0m\u001b[1;33m\u001b[0m\u001b[1;33m\u001b[0m\u001b[0m\n",
      "\u001b[1;31mValueError\u001b[0m: invalid literal for int() with base 10: ''"
     ]
    }
   ],
   "source": [
    "age = int(input())\n",
    "print(age)"
   ]
  },
  {
   "cell_type": "code",
   "execution_count": 6,
   "id": "28605049",
   "metadata": {
    "scrolled": true
   },
   "outputs": [
    {
     "ename": "SyntaxError",
     "evalue": "invalid syntax (<ipython-input-6-b78835dc33ae>, line 2)",
     "output_type": "error",
     "traceback": [
      "\u001b[1;36m  File \u001b[1;32m\"<ipython-input-6-b78835dc33ae>\"\u001b[1;36m, line \u001b[1;32m2\u001b[0m\n\u001b[1;33m    print(\"Sonuc : \" Tamsonuc \" Değişken Tipi :\" & type(Tamsonucmsonuc))\u001b[0m\n\u001b[1;37m                     ^\u001b[0m\n\u001b[1;31mSyntaxError\u001b[0m\u001b[1;31m:\u001b[0m invalid syntax\n"
     ]
    }
   ],
   "source": [
    "Tamsonuc = age//4\n",
    "print(\"Sonuc : \" Tamsonuc \" Değişken Tipi :\" & type(Tamsonucmsonuc))"
   ]
  },
  {
   "cell_type": "markdown",
   "id": "90296b99",
   "metadata": {},
   "source": [
    "SyntaxError hatası kodu yanlış yazma olarak önümüze çıkar burada Tırnak dan sonra bir opertör ya da virgül , olmalı. "
   ]
  },
  {
   "cell_type": "code",
   "execution_count": 7,
   "id": "4a353704",
   "metadata": {},
   "outputs": [
    {
     "ename": "NameError",
     "evalue": "name 'age' is not defined",
     "output_type": "error",
     "traceback": [
      "\u001b[1;31m---------------------------------------------------------------------------\u001b[0m",
      "\u001b[1;31mNameError\u001b[0m                                 Traceback (most recent call last)",
      "\u001b[1;32m<ipython-input-7-cff915368306>\u001b[0m in \u001b[0;36m<module>\u001b[1;34m\u001b[0m\n\u001b[1;32m----> 1\u001b[1;33m \u001b[0mTamsonu\u001b[0m \u001b[1;33m=\u001b[0m \u001b[0mage\u001b[0m\u001b[1;33m//\u001b[0m\u001b[1;36m4\u001b[0m\u001b[1;33m\u001b[0m\u001b[1;33m\u001b[0m\u001b[0m\n\u001b[0m\u001b[0;32m      2\u001b[0m \u001b[0mprint\u001b[0m\u001b[1;33m(\u001b[0m\u001b[1;34m\"Sonuc : \"\u001b[0m\u001b[1;33m,\u001b[0m \u001b[0mTamsonuc\u001b[0m\u001b[1;33m,\u001b[0m \u001b[1;34m\" Değişken Tipi-Sınıfı : \"\u001b[0m\u001b[1;33m,\u001b[0m \u001b[0mtype\u001b[0m\u001b[1;33m(\u001b[0m\u001b[0mTamsonuc\u001b[0m\u001b[1;33m)\u001b[0m\u001b[1;33m)\u001b[0m\u001b[1;33m\u001b[0m\u001b[1;33m\u001b[0m\u001b[0m\n",
      "\u001b[1;31mNameError\u001b[0m: name 'age' is not defined"
     ]
    }
   ],
   "source": [
    "Tamsonu = age//4\n",
    "print(\"Sonuc : \", Tamsonuc, \" Değişken Tipi-Sınıfı : \", type(Tamsonuc))"
   ]
  },
  {
   "cell_type": "code",
   "execution_count": 8,
   "id": "8f155c60",
   "metadata": {},
   "outputs": [
    {
     "ename": "NameError",
     "evalue": "name 'age' is not defined",
     "output_type": "error",
     "traceback": [
      "\u001b[1;31m---------------------------------------------------------------------------\u001b[0m",
      "\u001b[1;31mNameError\u001b[0m                                 Traceback (most recent call last)",
      "\u001b[1;32m<ipython-input-8-9e18222b4393>\u001b[0m in \u001b[0;36m<module>\u001b[1;34m\u001b[0m\n\u001b[1;32m----> 1\u001b[1;33m \u001b[0mfloatsonucu\u001b[0m\u001b[1;33m=\u001b[0m \u001b[0mage\u001b[0m\u001b[1;33m/\u001b[0m\u001b[1;36m4\u001b[0m \u001b[1;31m# normal bölme işareti sonucu float döndürüyor.\u001b[0m\u001b[1;33m\u001b[0m\u001b[1;33m\u001b[0m\u001b[0m\n\u001b[0m\u001b[0;32m      2\u001b[0m \u001b[0mfloatsonucu\u001b[0m\u001b[1;33m\u001b[0m\u001b[1;33m\u001b[0m\u001b[0m\n",
      "\u001b[1;31mNameError\u001b[0m: name 'age' is not defined"
     ]
    }
   ],
   "source": [
    "floatsonucu= age/4 # normal bölme işareti sonucu float döndürüyor. \n",
    "floatsonucu\n"
   ]
  },
  {
   "cell_type": "code",
   "execution_count": 9,
   "id": "9f602c8c",
   "metadata": {},
   "outputs": [
    {
     "ename": "NameError",
     "evalue": "name 'floatsonucu' is not defined",
     "output_type": "error",
     "traceback": [
      "\u001b[1;31m---------------------------------------------------------------------------\u001b[0m",
      "\u001b[1;31mNameError\u001b[0m                                 Traceback (most recent call last)",
      "\u001b[1;32m<ipython-input-9-116b695afea1>\u001b[0m in \u001b[0;36m<module>\u001b[1;34m\u001b[0m\n\u001b[1;32m----> 1\u001b[1;33m \u001b[0mtype\u001b[0m\u001b[1;33m(\u001b[0m\u001b[0mfloatsonucu\u001b[0m\u001b[1;33m)\u001b[0m \u001b[1;31m# tam olarak emin olmak için değişken kontrolü.\u001b[0m\u001b[1;33m\u001b[0m\u001b[1;33m\u001b[0m\u001b[0m\n\u001b[0m",
      "\u001b[1;31mNameError\u001b[0m: name 'floatsonucu' is not defined"
     ]
    }
   ],
   "source": [
    "type(floatsonucu) # tam olarak emin olmak için değişken kontrolü."
   ]
  },
  {
   "cell_type": "raw",
   "id": "1adf690c",
   "metadata": {},
   "source": []
  },
  {
   "cell_type": "code",
   "execution_count": 10,
   "id": "82af982b",
   "metadata": {},
   "outputs": [
    {
     "name": "stdout",
     "output_type": "stream",
     "text": [
      "His age is: 42\n"
     ]
    }
   ],
   "source": [
    "age = 42\n",
    "print (\"His age is: \" + str(age)) # burada da integer olarak aldığımız değeri str olarak print ediyoruz. \n"
   ]
  },
  {
   "cell_type": "markdown",
   "id": "0ebf475a",
   "metadata": {},
   "source": [
    "Birde dikkat ettim string jupyter ide sinde kırmızı int ve metotlar genelde yeşil oluyor. "
   ]
  },
  {
   "cell_type": "code",
   "execution_count": 11,
   "id": "497c8793",
   "metadata": {},
   "outputs": [
    {
     "name": "stdout",
     "output_type": "stream",
     "text": [
      "Str olarak aldığımız değerleri sonuç ekranında int olarak \n",
      "değiştirdiğimiz için normal sayı olarak görüyor.\n"
     ]
    }
   ],
   "source": [
    "x = \"2\"\n",
    "y = \"4\"\n",
    "z = int(x) + int(y)\n",
    "print(\"Str olarak aldığımız değerleri sonuç ekranında int olarak \\n\\\n",
    "değiştirdiğimiz için normal sayı olarak görüyor.\") # \\\\ iki kere ters slaj arasına n koyduğumuzda yeni satıra geçiyor."
   ]
  },
  {
   "cell_type": "code",
   "execution_count": 12,
   "id": "51e7f05b",
   "metadata": {},
   "outputs": [
    {
     "name": "stdout",
     "output_type": "stream",
     "text": [
      "\n",
      "10\n",
      "is 10\n"
     ]
    }
   ],
   "source": [
    "name = input()\n",
    "age = input()\n",
    "print(name + \"is \" + age)"
   ]
  },
  {
   "cell_type": "code",
   "execution_count": 13,
   "id": "291e8136",
   "metadata": {},
   "outputs": [
    {
     "name": "stdout",
     "output_type": "stream",
     "text": [
      "10\n",
      "10\n",
      "20\n"
     ]
    }
   ],
   "source": [
    "x = int(input())\n",
    "y = int(input())\n",
    "print(x+y)\n"
   ]
  },
  {
   "cell_type": "markdown",
   "id": "3b4baedc",
   "metadata": {
    "lang": "en"
   },
   "source": [
    "In-Place Operators"
   ]
  },
  {
   "cell_type": "markdown",
   "id": "8f1ad8a5",
   "metadata": {
    "lang": "en"
   },
   "source": [
    "Opérateurs sur place"
   ]
  },
  {
   "cell_type": "markdown",
   "id": "1682048b",
   "metadata": {
    "lang": "en"
   },
   "source": [
    "Opérateurs sur place"
   ]
  },
  {
   "cell_type": "markdown",
   "id": "93ca2929",
   "metadata": {
    "lang": "fr"
   },
   "source": [
    "Opérateurs sur place"
   ]
  },
  {
   "cell_type": "markdown",
   "id": "64749e0e",
   "metadata": {
    "lang": "en"
   },
   "source": [
    "In-Place Operators"
   ]
  },
  {
   "cell_type": "code",
   "execution_count": 16,
   "id": "7bc663a5",
   "metadata": {},
   "outputs": [
    {
     "name": "stdout",
     "output_type": "stream",
     "text": [
      "2\n",
      "5\n"
     ]
    }
   ],
   "source": [
    "x = 2\n",
    "print(x)\n",
    "x +=3\n",
    "print(x) # burada görüldüğü üzere eşitilğin sonluna ne koyarsak değişken \n",
    "         #üzerinden o işlemi eşitiğin sağındaki değer ile yaptırıyor. \n"
   ]
  },
  {
   "cell_type": "code",
   "execution_count": null,
   "id": "ceb825b0",
   "metadata": {},
   "outputs": [],
   "source": [
    "2+2"
   ]
  },
  {
   "cell_type": "code",
   "execution_count": 18,
   "id": "fa355551",
   "metadata": {},
   "outputs": [
    {
     "name": "stdout",
     "output_type": "stream",
     "text": [
      "12\n"
     ]
    }
   ],
   "source": [
    "x = 4\n",
    "x*=3\n",
    "print(x)"
   ]
  },
  {
   "cell_type": "code",
   "execution_count": 22,
   "id": "364001b6",
   "metadata": {
    "lang": "en"
   },
   "outputs": [
    {
     "ename": "IndentationError",
     "evalue": "unexpected indent (<ipython-input-22-48aec00fbc4f>, line 3)",
     "output_type": "error",
     "traceback": [
      "\u001b[1;36m  File \u001b[1;32m\"<ipython-input-22-48aec00fbc4f>\"\u001b[1;36m, line \u001b[1;32m3\u001b[0m\n\u001b[1;33m    x +=\"eggs\" # x değikenimiz spam ona eggs ifadesini bitişik olarak ekliyoruz.\u001b[0m\n\u001b[1;37m    ^\u001b[0m\n\u001b[1;31mIndentationError\u001b[0m\u001b[1;31m:\u001b[0m unexpected indent\n"
     ]
    }
   ],
   "source": [
    "x = \"spam\"\n",
    "print(x)   # dikkat değişken stringde olsa değişken ismini tırnak içinde yamay gerek yok. \n",
    "    x+=\"eggs\" # x değikenimiz spam ona eggs ifadesini bitişik olarak ekliyoruz.\n",
    "print(x)\n"
   ]
  },
  {
   "cell_type": "markdown",
   "id": "a17688af",
   "metadata": {},
   "source": [
    "buradaki hata kodunu x içerden başladığı için alıyoruz. "
   ]
  },
  {
   "cell_type": "code",
   "execution_count": 23,
   "id": "8d18918e",
   "metadata": {},
   "outputs": [
    {
     "name": "stdout",
     "output_type": "stream",
     "text": [
      "spam\n",
      "spameggs\n"
     ]
    }
   ],
   "source": [
    "x = \"spam\"\n",
    "print(x)   # dikkat değişken stringde olsa değişken ismini tırnak içinde yamay gerek yok. \n",
    "x+=\"eggs\" # x değikenimiz spam ona eggs ifadesini bitişik olarak ekliyoruz.\n",
    "print(x)"
   ]
  },
  {
   "cell_type": "code",
   "execution_count": 24,
   "id": "901d1fc2",
   "metadata": {},
   "outputs": [
    {
     "name": "stdout",
     "output_type": "stream",
     "text": [
      "aaa\n"
     ]
    }
   ],
   "source": [
    "x =\"a\"\n",
    "x*=3 \n",
    "print(x)"
   ]
  },
  {
   "cell_type": "markdown",
   "id": "e5f4b28d",
   "metadata": {},
   "source": [
    "Walrus operator"
   ]
  },
  {
   "cell_type": "code",
   "execution_count": 25,
   "id": "342845e8",
   "metadata": {},
   "outputs": [
    {
     "name": "stdout",
     "output_type": "stream",
     "text": [
      "65\n",
      "65\n"
     ]
    }
   ],
   "source": [
    "print(num:=int(input()))"
   ]
  },
  {
   "cell_type": "markdown",
   "id": "fbc351f1",
   "metadata": {
    "lang": "en"
   },
   "source": [
    "The walrus operator makes code more readable and can be useful in many situations."
   ]
  },
  {
   "cell_type": "markdown",
   "id": "8d1060cb",
   "metadata": {
    "lang": "tr"
   },
   "source": [
    "Mors operatörü, kodu daha okunaklı hale getirir ve birçok durumda faydalı olabilir."
   ]
  },
  {
   "cell_type": "markdown",
   "id": "63873bcd",
   "metadata": {},
   "source": [
    ":= bu şekilde yazılıyor."
   ]
  },
  {
   "cell_type": "code",
   "execution_count": 27,
   "id": "61d6ca63",
   "metadata": {},
   "outputs": [
    {
     "name": "stdout",
     "output_type": "stream",
     "text": [
      "73.0\n"
     ]
    }
   ],
   "source": [
    "spam = \"7\"\n",
    "spam = spam + \"0\"\n",
    "eggs = int(spam) + 3 \n",
    "print(float(eggs))"
   ]
  },
  {
   "cell_type": "code",
   "execution_count": 28,
   "id": "3abe33dd",
   "metadata": {},
   "outputs": [
    {
     "name": "stdout",
     "output_type": "stream",
     "text": [
      "42\n",
      "50\n"
     ]
    }
   ],
   "source": [
    "age = int(input())\n",
    "print(age+8)\n"
   ]
  },
  {
   "cell_type": "code",
   "execution_count": 31,
   "id": "3971b506",
   "metadata": {},
   "outputs": [
    {
     "name": "stdout",
     "output_type": "stream",
     "text": [
      "82\n"
     ]
    }
   ],
   "source": [
    "x = 5 \n",
    "y = x + 3 \n",
    "y = int(str(y)+\"2\")\n",
    "print(y)"
   ]
  },
  {
   "cell_type": "code",
   "execution_count": 36,
   "id": "2cfba5fd",
   "metadata": {},
   "outputs": [
    {
     "name": "stdout",
     "output_type": "stream",
     "text": [
      "9\n"
     ]
    }
   ],
   "source": [
    "x = 4 \n",
    "x +=5 \n",
    "print(x)"
   ]
  },
  {
   "cell_type": "code",
   "execution_count": 39,
   "id": "99649195",
   "metadata": {},
   "outputs": [
    {
     "name": "stdout",
     "output_type": "stream",
     "text": [
      "2\n"
     ]
    }
   ],
   "source": [
    "x = 3 \n",
    "num = 17 \n",
    "print(num%x) #% yüzde işareti modülüs olarak bildiğimiz bölümden kalan değeri döndürüyor."
   ]
  },
  {
   "cell_type": "code",
   "execution_count": 40,
   "id": "d0926974",
   "metadata": {},
   "outputs": [
    {
     "name": "stdout",
     "output_type": "stream",
     "text": [
      "ibramm\n",
      "Welcome, ibramm\n"
     ]
    }
   ],
   "source": [
    "name = input()\n",
    "print(\"Welcome, \"+ name)"
   ]
  },
  {
   "cell_type": "code",
   "execution_count": 42,
   "id": "10441d83",
   "metadata": {},
   "outputs": [
    {
     "name": "stdout",
     "output_type": "stream",
     "text": [
      "10\n",
      "10\n",
      "20\n"
     ]
    }
   ],
   "source": [
    "first_num = int(input())\n",
    "second_num = int(input())\n",
    "print(first_num+second_num)\n"
   ]
  },
  {
   "cell_type": "code",
   "execution_count": 45,
   "id": "66dd65c8",
   "metadata": {},
   "outputs": [
    {
     "name": "stdout",
     "output_type": "stream",
     "text": [
      "True\n",
      "False\n",
      "True\n"
     ]
    }
   ],
   "source": [
    "my_boolean = True\n",
    "print(my_boolean)\n",
    "\n",
    "print( 2 == 3)\n",
    "\n",
    "print (\"hello\" == \"hello\")\n"
   ]
  },
  {
   "cell_type": "markdown",
   "id": "d9326d40",
   "metadata": {
    "lang": "en"
   },
   "source": [
    "Comparison"
   ]
  },
  {
   "cell_type": "markdown",
   "id": "ab85ca35",
   "metadata": {
    "lang": "tr"
   },
   "source": [
    "Karşılaştırmak"
   ]
  },
  {
   "cell_type": "code",
   "execution_count": 47,
   "id": "c9981201",
   "metadata": {},
   "outputs": [
    {
     "name": "stdout",
     "output_type": "stream",
     "text": [
      "False\n"
     ]
    }
   ],
   "source": [
    "print ( 1 != 1) # Anlamı bir eşit değildir 1 e tabiki yanlış döndürür."
   ]
  },
  {
   "cell_type": "code",
   "execution_count": 48,
   "id": "43c1210a",
   "metadata": {},
   "outputs": [
    {
     "name": "stdout",
     "output_type": "stream",
     "text": [
      "True\n"
     ]
    }
   ],
   "source": [
    "print(\"eleven\" != \"seven\") # bu ifade de eleven seven değildir diyor karşılaştırma olarak doğru değer döndürür."
   ]
  },
  {
   "cell_type": "code",
   "execution_count": 49,
   "id": "a0463f8e",
   "metadata": {},
   "outputs": [
    {
     "name": "stdout",
     "output_type": "stream",
     "text": [
      "True\n"
     ]
    }
   ],
   "source": [
    "print(2 != 10) # 2 değildir 10 sonuç olarak doğru bir ifade True değer döndürür. \n"
   ]
  },
  {
   "cell_type": "markdown",
   "id": "df35d490",
   "metadata": {
    "lang": "en"
   },
   "source": [
    "The greater than or equal to, and smaller than or equal to operators are >= and <=.\n",
    "They are the same as the strict greater than and smaller than operators, except that they return True when comparing equal numbers."
   ]
  },
  {
   "cell_type": "markdown",
   "id": "4fa3019a",
   "metadata": {
    "lang": "tr"
   },
   "source": [
    "Operatörlerden büyük veya eşittir ve daha küçük veya eşittir operatörleri >= ve <='dir.\n",
    "Eşit sayıları karşılaştırırken True döndürmeleri dışında, kesinlikle büyük ve küçük operatörlerle aynıdırlar."
   ]
  },
  {
   "cell_type": "markdown",
   "id": "b4709681",
   "metadata": {
    "lang": "en"
   },
   "source": [
    "Greater than and smaller than operators can also be used to compare strings lexicographically (the alphabetical order of words is based on the alphabetical order of their component letters).\n",
    "For example:"
   ]
  },
  {
   "cell_type": "markdown",
   "id": "6ef73e41",
   "metadata": {
    "lang": "tr"
   },
   "source": [
    "Büyüktür ve küçüktür işleçleri, dizeleri sözlükbilimsel olarak karşılaştırmak için de kullanılabilir (kelimelerin alfabetik sırası, bileşen harflerinin alfabetik sırasına dayanır).\n",
    "Örneğin:"
   ]
  },
  {
   "cell_type": "code",
   "execution_count": 53,
   "id": "bc6143fa",
   "metadata": {},
   "outputs": [
    {
     "name": "stdout",
     "output_type": "stream",
     "text": [
      "True\n"
     ]
    }
   ],
   "source": [
    "print(\"Annie\">\"Andyyyyy\") # 3.sıradaki n harfi d den sonra gelen bir harf olduğu için büyük kabul ediliyor."
   ]
  },
  {
   "cell_type": "markdown",
   "id": "93f8cf49",
   "metadata": {},
   "source": [
    "if Statements"
   ]
  },
  {
   "cell_type": "markdown",
   "id": "0f06d40b",
   "metadata": {
    "lang": "en"
   },
   "source": [
    "You can use if statements to run code if a certain condition holds.\n",
    "If an expression evaluates to True, some statements are carried out. Otherwise, they aren't carried out.\n",
    "An if statement looks like this:"
   ]
  },
  {
   "cell_type": "markdown",
   "id": "01a56058",
   "metadata": {
    "lang": "tr"
   },
   "source": [
    "Belirli bir koşul geçerliyse kodu çalıştırmak için if deyimlerini kullanabilirsiniz.\n",
    "Bir ifade True olarak değerlendirilirse, bazı ifadeler gerçekleştirilir. Aksi takdirde uygulanmazlar.\n",
    "Bir if ifadesi şöyle görünür:"
   ]
  },
  {
   "cell_type": "code",
   "execution_count": 55,
   "id": "4a45e92c",
   "metadata": {
    "lang": "en",
    "scrolled": true
   },
   "outputs": [
    {
     "ename": "NameError",
     "evalue": "name 'expression' is not defined",
     "output_type": "error",
     "traceback": [
      "\u001b[1;31m---------------------------------------------------------------------------\u001b[0m",
      "\u001b[1;31mNameError\u001b[0m                                 Traceback (most recent call last)",
      "\u001b[1;32m<ipython-input-55-d32fa9932681>\u001b[0m in \u001b[0;36m<module>\u001b[1;34m\u001b[0m\n\u001b[1;32m----> 1\u001b[1;33m \u001b[1;32mif\u001b[0m \u001b[0mexpression\u001b[0m\u001b[1;33m:\u001b[0m\u001b[1;33m\u001b[0m\u001b[1;33m\u001b[0m\u001b[0m\n\u001b[0m\u001b[0;32m      2\u001b[0m    \u001b[0mstatements\u001b[0m\u001b[1;33m\u001b[0m\u001b[1;33m\u001b[0m\u001b[0m\n",
      "\u001b[1;31mNameError\u001b[0m: name 'expression' is not defined"
     ]
    }
   ],
   "source": [
    "if expression:\n",
    "   statements"
   ]
  },
  {
   "cell_type": "markdown",
   "id": "7b14ee0e",
   "metadata": {
    "lang": "tr"
   },
   "source": [
    "eğer ifade:\n",
    "   ifadeler"
   ]
  },
  {
   "cell_type": "code",
   "execution_count": null,
   "id": "cc9e5af8",
   "metadata": {
    "lang": "en"
   },
   "outputs": [],
   "source": [
    "# Python uses indentation (white space at the beginning of a line) to delimit blocks of code. \n",
    "Depending on program's logic, indentation can be mandatory.\n",
    "As you can see, the statements in the if should be indented."
   ]
  },
  {
   "cell_type": "markdown",
   "id": "ab24dab6",
   "metadata": {
    "lang": "tr"
   },
   "source": [
    "Python, kod bloklarını sınırlamak için girintiyi (satırın başındaki beyaz boşluk) kullanır.\n",
    "Programın mantığına bağlı olarak girinti zorunlu olabilir.\n",
    "Gördüğünüz gibi, if içindeki ifadeler girintili olmalıdır. if den sonra yazılan ifadeler yani alttaki satır.. \n",
    " ---> girinti ile başlamalıdır.\n"
   ]
  },
  {
   "cell_type": "code",
   "execution_count": 57,
   "id": "e5b56ab4",
   "metadata": {
    "lang": "en"
   },
   "outputs": [
    {
     "name": "stdout",
     "output_type": "stream",
     "text": [
      "10 greater than 5\n",
      "program ended\n"
     ]
    }
   ],
   "source": [
    "if 10 > 5 :\n",
    "    print(\"10 greater than 5\")\n",
    "print(\"program ended\")"
   ]
  },
  {
   "cell_type": "markdown",
   "id": "e3de722e",
   "metadata": {
    "lang": "tr"
   },
   "source": [
    "10 > 5 ise:\n",
    "    print(\"10 5'ten büyük\")\n",
    "print(\"program bitti\")"
   ]
  },
  {
   "cell_type": "markdown",
   "id": "11ddeae1",
   "metadata": {
    "lang": "en"
   },
   "source": [
    "Notice the colon at the end of the expression in the if statement."
   ]
  },
  {
   "cell_type": "markdown",
   "id": "d0377071",
   "metadata": {
    "lang": "tr"
   },
   "source": [
    "if ifadesindeki ifadenin sonundaki iki nokta üst üste işaretine dikkat edin."
   ]
  },
  {
   "cell_type": "code",
   "execution_count": 58,
   "id": "832b036f",
   "metadata": {},
   "outputs": [
    {
     "name": "stdout",
     "output_type": "stream",
     "text": [
      "five\n"
     ]
    }
   ],
   "source": [
    "spam = 7\n",
    "if spam > 5 : \n",
    "    print(\"five\")\n",
    "if spam >8 : \n",
    "    print(\"eigth\")"
   ]
  },
  {
   "cell_type": "markdown",
   "id": "3cf8949c",
   "metadata": {
    "lang": "en"
   },
   "source": [
    "To perform more complex checks, if statements can be nested, one inside the other.\n",
    "This means that the inner if statement is the statement part of the outer one. This is one way to see whether multiple conditions are satisfied."
   ]
  },
  {
   "cell_type": "markdown",
   "id": "b757a1eb",
   "metadata": {
    "lang": "tr"
   },
   "source": [
    "Daha karmaşık kontroller yapmak için, ifadeler iç içe yerleştirilebilirse.\n",
    "Bu, iç if ifadesinin dıştakinin ifade kısmı olduğu anlamına gelir. Bu, birden çok koşulun karşılanıp karşılanmadığını görmenin bir yoludur."
   ]
  },
  {
   "cell_type": "code",
   "execution_count": 60,
   "id": "b43f3a19",
   "metadata": {},
   "outputs": [
    {
     "name": "stdout",
     "output_type": "stream",
     "text": [
      "Bigger than 5\n",
      "Bettwen 5 and 47\n"
     ]
    }
   ],
   "source": [
    "num = 12 \n",
    "if num > 5 : \n",
    "    print(\"Bigger than 5\")\n",
    "    if num<=47:\n",
    "        print(\"Bettwen 5 and 47\") # dikkat iç içe if yazılırken girinti içinde girinti oluyor."
   ]
  },
  {
   "cell_type": "code",
   "execution_count": 61,
   "id": "8b89079e",
   "metadata": {},
   "outputs": [
    {
     "name": "stdout",
     "output_type": "stream",
     "text": [
      "3\n"
     ]
    }
   ],
   "source": [
    "num = 7 \n",
    "if num > 3:\n",
    "    print(\"3\")\n",
    "    if num <5:\n",
    "        print(\"5\")\n",
    "        if num ==7:\n",
    "            print(\"7\")"
   ]
  },
  {
   "cell_type": "markdown",
   "id": "84552615",
   "metadata": {},
   "source": [
    "else Statements"
   ]
  },
  {
   "cell_type": "code",
   "execution_count": null,
   "id": "4d3cd09c",
   "metadata": {
    "lang": "en"
   },
   "outputs": [],
   "source": [
    "The if statement allows you to check a condition and run some statements, if the condition is True.\n",
    "The else statement can be used to run some statements when the condition of the if statement is False.\n",
    "\n",
    "As with if statements, the code inside the block should be indented."
   ]
  },
  {
   "cell_type": "markdown",
   "id": "7007d6b6",
   "metadata": {
    "lang": "tr"
   },
   "source": [
    "if ifadesi, bir koşulu kontrol etmenize ve koşul True ise bazı ifadeleri çalıştırmanıza izin verir.\n",
    "else ifadesi, if ifadesinin koşulu False olduğunda bazı ifadeleri çalıştırmak için kullanılabilir.\n",
    "\n",
    "if ifadelerinde olduğu gibi, bloğun içindeki kod girintili olmalıdır."
   ]
  },
  {
   "cell_type": "code",
   "execution_count": null,
   "id": "1e9aea29",
   "metadata": {
    "lang": "en"
   },
   "outputs": [],
   "source": [
    "Notice the colon after the else keyword."
   ]
  },
  {
   "cell_type": "markdown",
   "id": "de45d95d",
   "metadata": {
    "lang": "tr"
   },
   "source": [
    "else anahtar sözcüğünden sonraki iki nokta üst üste işaretine dikkat edin."
   ]
  },
  {
   "cell_type": "code",
   "execution_count": 62,
   "id": "9392016e",
   "metadata": {},
   "outputs": [
    {
     "name": "stdout",
     "output_type": "stream",
     "text": [
      "No\n"
     ]
    }
   ],
   "source": [
    "x = 4 \n",
    "if x == 5 : \n",
    "    print(\"Yes\")\n",
    "else:\n",
    "    print(\"No\")"
   ]
  },
  {
   "cell_type": "code",
   "execution_count": 68,
   "id": "88d9d37a",
   "metadata": {},
   "outputs": [
    {
     "name": "stdout",
     "output_type": "stream",
     "text": [
      "else\n"
     ]
    }
   ],
   "source": [
    "if 1 + 1 == 2:\n",
    "   if 2 * 2 == 8:\n",
    "      print(\"if\")\n",
    "   else:\n",
    "      print(\"else\")\n"
   ]
  },
  {
   "cell_type": "markdown",
   "id": "5124d62f",
   "metadata": {
    "lang": "en"
   },
   "source": [
    "Every if condition block can have only one else statement.\n",
    "In order to make multiple checks, you can chain if and else statements.\n",
    "\n",
    "For example, the following program checks and outputs the num variable's value as text:"
   ]
  },
  {
   "cell_type": "markdown",
   "id": "b3304640",
   "metadata": {
    "lang": "tr"
   },
   "source": [
    "Her if koşulu bloğunda yalnızca bir else ifadesi olabilir.\n",
    "Birden fazla kontrol yapabilmek için if ve else ifadelerini zincirleyebilirsiniz.\n",
    "\n",
    "Örneğin, aşağıdaki program num değişkeninin değerini metin olarak kontrol eder ve çıkarır:"
   ]
  },
  {
   "cell_type": "code",
   "execution_count": 73,
   "id": "0efeec73",
   "metadata": {
    "lang": "en"
   },
   "outputs": [
    {
     "name": "stdout",
     "output_type": "stream",
     "text": [
      "Something else\n"
     ]
    }
   ],
   "source": [
    "num = 4\n",
    "if num == 1: \n",
    "    print(\"One\")\n",
    "else : \n",
    "    if num ==2:\n",
    "        print(\"Two\")\n",
    "    else:\n",
    "        print(\"Something else\")"
   ]
  },
  {
   "cell_type": "code",
   "execution_count": 70,
   "id": "54742232",
   "metadata": {
    "lang": "en"
   },
   "outputs": [
    {
     "name": "stdout",
     "output_type": "stream",
     "text": [
      "else statement\n"
     ]
    }
   ],
   "source": [
    "x = 10 \n",
    "x = 20\n",
    "if x > y : \n",
    "    print(\"if statement\")\n",
    "else : \n",
    "    print(\"else statement\")"
   ]
  },
  {
   "cell_type": "markdown",
   "id": "263e517c",
   "metadata": {},
   "source": [
    "# elif Statements"
   ]
  },
  {
   "cell_type": "markdown",
   "id": "5ebaa144",
   "metadata": {
    "lang": "en"
   },
   "source": [
    "Multiple if/else statements make the code long and not very readable.\n",
    "The elif (short for else if) statement is a shortcut to use when chaining if and else statements, making the code shorter.\n",
    "\n",
    "The same example from the previous part can be rewritten using elif statements:"
   ]
  },
  {
   "cell_type": "markdown",
   "id": "edf72c18",
   "metadata": {
    "lang": "tr"
   },
   "source": [
    "Birden çok if/else ifadesi, kodu uzun ve çok okunaklı yapmaz.\n",
    "elif (else if'nin kısaltması) ifadesi, if ve else ifadelerini zincirlerken kodu kısaltan bir kısayoldur.\n",
    "\n",
    "Önceki bölümdeki aynı örnek, elif ifadeleri kullanılarak yeniden yazılabilir:"
   ]
  },
  {
   "cell_type": "code",
   "execution_count": 72,
   "id": "dcd4d1ba",
   "metadata": {},
   "outputs": [
    {
     "name": "stdout",
     "output_type": "stream",
     "text": [
      "Three\n"
     ]
    }
   ],
   "source": [
    "num = 3 \n",
    "if num == 1:\n",
    "    print(\"One\")\n",
    "elif num == 2:\n",
    "    print(\"Two\")\n",
    "elif num == 3:\n",
    "    print(\"Three\")\n",
    "else:\n",
    "    print(\"Something else\")"
   ]
  },
  {
   "cell_type": "markdown",
   "id": "0be6d1f7",
   "metadata": {
    "lang": "en"
   },
   "source": [
    "As you can see in the example above, a series of if elif statements can have a final else block, which is called if none of the if or elif expressions is True."
   ]
  },
  {
   "cell_type": "markdown",
   "id": "c2a66352",
   "metadata": {
    "lang": "tr"
   },
   "source": [
    "Yukarıdaki örnekte görebileceğiniz gibi, bir dizi if deyimi, if veya elif ifadelerinin hiçbiri True değilse çağrılan son bir else bloğuna sahip olabilir."
   ]
  },
  {
   "cell_type": "markdown",
   "id": "e078a0c1",
   "metadata": {
    "lang": "en"
   },
   "source": [
    "The elif statement is equivalent to an else/if statement. It is used to make the code shorter, more readable, and avoid indentation increase."
   ]
  },
  {
   "cell_type": "markdown",
   "id": "7064dc08",
   "metadata": {
    "lang": "tr"
   },
   "source": [
    "elif ifadesi, else/if ifadesine eşdeğerdir. Kodu daha kısa, daha okunaklı hale getirmek ve girinti artışını önlemek için kullanılır."
   ]
  },
  {
   "cell_type": "markdown",
   "id": "f2cafd69",
   "metadata": {},
   "source": [
    "Boolean Logic\n"
   ]
  },
  {
   "cell_type": "markdown",
   "id": "e756970c",
   "metadata": {
    "lang": "en"
   },
   "source": [
    "\n",
    "Boolean logic is used to make more complicated conditions for if statements that rely on more than one condition.\n",
    "Python's Boolean operators are and, or, and not.\n",
    "The and operator takes two arguments, and evaluates as True if, and only if, both of its arguments are True. Otherwise, it evaluates to False."
   ]
  },
  {
   "cell_type": "markdown",
   "id": "66e2f2a1",
   "metadata": {
    "lang": "tr"
   },
   "source": [
    "Boole mantığı, birden fazla koşula dayanan if ifadeleri için daha karmaşık koşullar oluşturmak için kullanılır.\n",
    "Python'un Boole operatörleri and, or, and not.\n",
    "and operatörü iki bağımsız değişken alır ve yalnızca ve yalnızca her iki bağımsız değişkeni de Doğruysa True olarak değerlendirilir. Aksi takdirde, False olarak değerlendirilir."
   ]
  },
  {
   "cell_type": "code",
   "execution_count": 1,
   "id": "4bbce968",
   "metadata": {},
   "outputs": [
    {
     "name": "stdout",
     "output_type": "stream",
     "text": [
      "True\n"
     ]
    }
   ],
   "source": [
    "print ( 1 == 1 and 2 == 2 )"
   ]
  },
  {
   "cell_type": "code",
   "execution_count": 2,
   "id": "d1a8b83a",
   "metadata": {},
   "outputs": [
    {
     "name": "stdout",
     "output_type": "stream",
     "text": [
      "False\n"
     ]
    }
   ],
   "source": [
    "print(1==1 and 2==3)"
   ]
  },
  {
   "cell_type": "markdown",
   "id": "d839fea6",
   "metadata": {
    "lang": "en"
   },
   "source": [
    "Boolean operators can be used in expression as many times as needed."
   ]
  },
  {
   "cell_type": "markdown",
   "id": "565afbde",
   "metadata": {},
   "source": [
    "# Boolean Or"
   ]
  },
  {
   "cell_type": "markdown",
   "id": "ab41bae6",
   "metadata": {
    "lang": "tr"
   },
   "source": [
    "Boolean operatörleri, ifadede gerektiği kadar kullanılabilir."
   ]
  },
  {
   "cell_type": "code",
   "execution_count": 3,
   "id": "57b92d52",
   "metadata": {},
   "outputs": [
    {
     "name": "stdout",
     "output_type": "stream",
     "text": [
      "true\n"
     ]
    }
   ],
   "source": [
    "if (1==1) and (2+2>3):\n",
    "    print(\"true\")\n",
    "else:\n",
    "    print(\"false\")"
   ]
  },
  {
   "cell_type": "markdown",
   "id": "82354abb",
   "metadata": {
    "lang": "en"
   },
   "source": [
    "The or operator also takes two arguments. It evaluates to True if either (or both) of its arguments are True, and False if both arguments are False"
   ]
  },
  {
   "cell_type": "markdown",
   "id": "5bd24830",
   "metadata": {
    "lang": "tr"
   },
   "source": [
    "veya operatörü ayrıca iki argüman alır. Argümanlarından biri (veya her ikisi) Doğru ise True, her iki argüman da False ise False olarak değerlendirir."
   ]
  },
  {
   "cell_type": "code",
   "execution_count": 4,
   "id": "a8955f63",
   "metadata": {},
   "outputs": [
    {
     "name": "stdout",
     "output_type": "stream",
     "text": [
      "True\n"
     ]
    }
   ],
   "source": [
    "print(1==1 or 2 == 2)"
   ]
  },
  {
   "cell_type": "code",
   "execution_count": 5,
   "id": "ea9e441b",
   "metadata": {},
   "outputs": [
    {
     "name": "stdout",
     "output_type": "stream",
     "text": [
      "True\n"
     ]
    }
   ],
   "source": [
    "print(1==1 or 2 ==3) # karşılaştırmalardan ( )"
   ]
  },
  {
   "cell_type": "code",
   "execution_count": 6,
   "id": "a28e006d",
   "metadata": {},
   "outputs": [
    {
     "name": "stdout",
     "output_type": "stream",
     "text": [
      "Welcome\n"
     ]
    }
   ],
   "source": [
    "age= 145\n",
    "money = 500\n",
    "if age > 18 or money>100:\n",
    "    print(\"Welcome\")"
   ]
  },
  {
   "cell_type": "markdown",
   "id": "0c826e25",
   "metadata": {},
   "source": [
    "# Boolean Not"
   ]
  },
  {
   "cell_type": "markdown",
   "id": "6f5b0669",
   "metadata": {
    "lang": "en"
   },
   "source": [
    "\n",
    "Unlike other operators we've seen so far, not only takes one argument, and inverts it.\n",
    "The result of not True is False, and not False goes to True"
   ]
  },
  {
   "cell_type": "markdown",
   "id": "20f5fc5b",
   "metadata": {
    "lang": "tr"
   },
   "source": [
    "Şimdiye kadar gördüğümüz diğer operatörlerin aksine, yalnızca bir argüman alıp onu tersine çevirmez.\n",
    "Doğru değil'in sonucu Yanlış'tır ve Yanlış değil'in sonucu Doğru'ya gider"
   ]
  },
  {
   "cell_type": "code",
   "execution_count": 9,
   "id": "fc7f2e08",
   "metadata": {},
   "outputs": [
    {
     "name": "stdout",
     "output_type": "stream",
     "text": [
      "False\n"
     ]
    }
   ],
   "source": [
    "print(not 1 == 1) # logic olarak ders sonucu terse yapar."
   ]
  },
  {
   "cell_type": "code",
   "execution_count": 10,
   "id": "c0938e2e",
   "metadata": {},
   "outputs": [
    {
     "name": "stdout",
     "output_type": "stream",
     "text": [
      "True\n"
     ]
    }
   ],
   "source": [
    "print( not 1 >7) # şöyle bakıncı normalde 1 değeri 7 den küçük ve sonuç False çıkacakken not bunu ters değer döndürür."
   ]
  },
  {
   "cell_type": "markdown",
   "id": "619dc46a",
   "metadata": {
    "lang": "en"
   },
   "source": [
    "You can chain multiple conditional statements in an if statement using the Boolean operators."
   ]
  },
  {
   "cell_type": "markdown",
   "id": "f686f927",
   "metadata": {
    "lang": "tr"
   },
   "source": [
    "Boole işleçlerini kullanarak bir if ifadesinde birden çok koşullu ifadeyi zincirleyebilirsiniz."
   ]
  },
  {
   "cell_type": "code",
   "execution_count": 11,
   "id": "f3da41b5",
   "metadata": {},
   "outputs": [
    {
     "name": "stdout",
     "output_type": "stream",
     "text": [
      "2\n"
     ]
    }
   ],
   "source": [
    "if not True:\n",
    "    print(\"1\")\n",
    "elif not(1+1==3):\n",
    "    print(\"2\")\n",
    "else:\n",
    "    print(\"3\")"
   ]
  },
  {
   "cell_type": "markdown",
   "id": "46c033d6",
   "metadata": {
    "lang": "en"
   },
   "source": [
    "# Operator Precedence\n"
   ]
  },
  {
   "cell_type": "markdown",
   "id": "6a64411a",
   "metadata": {
    "lang": "en"
   },
   "source": [
    "Operator precedence is a very important concept in programming. It is an extension of the mathematical idea of order of operations (multiplication being performed before addition, etc.) to include other operators, such as those in Boolean logic.\n",
    "\n",
    "The below code shows that == has a higher precedence than or"
   ]
  },
  {
   "cell_type": "markdown",
   "id": "37218a6a",
   "metadata": {
    "lang": "tr"
   },
   "source": [
    "Operatör önceliği programlamada çok önemli bir kavramdır. Boole mantığındakiler gibi diğer operatörleri dahil etmek için matematiksel işlem sırası fikrinin (toplamadan önce gerçekleştirilen çarpma vb.) bir uzantısıdır.\n",
    "\n",
    "Aşağıdaki kod, == öğesinin veya öğesinden daha yüksek önceliğe sahip olduğunu gösterir."
   ]
  },
  {
   "cell_type": "markdown",
   "id": "b2154f8b",
   "metadata": {},
   "source": [
    "== işareti aynı parantez içinde önceliğe sahiptir yoksa parantez önceliklidir."
   ]
  },
  {
   "cell_type": "code",
   "execution_count": 12,
   "id": "322825e8",
   "metadata": {},
   "outputs": [
    {
     "name": "stdout",
     "output_type": "stream",
     "text": [
      "True\n"
     ]
    }
   ],
   "source": [
    "print(False ==False or True)"
   ]
  },
  {
   "cell_type": "code",
   "execution_count": 13,
   "id": "d57d4609",
   "metadata": {},
   "outputs": [
    {
     "name": "stdout",
     "output_type": "stream",
     "text": [
      "False\n"
     ]
    }
   ],
   "source": [
    "print(False ==(False or True))"
   ]
  },
  {
   "cell_type": "code",
   "execution_count": 15,
   "id": "c60f61d7",
   "metadata": {},
   "outputs": [
    {
     "name": "stdout",
     "output_type": "stream",
     "text": [
      "True\n"
     ]
    }
   ],
   "source": [
    "print((False ==False) or True) #bu ifadeyi iç içe parantez kullanmasak ta sonuç aynı çıkacak \n",
    "                                #çünkü == karşılaştırma öncelikli..."
   ]
  },
  {
   "cell_type": "code",
   "execution_count": 16,
   "id": "a2393b32",
   "metadata": {},
   "outputs": [
    {
     "name": "stdout",
     "output_type": "stream",
     "text": [
      "No\n"
     ]
    }
   ],
   "source": [
    "if 1+1*3 ==6:\n",
    "    print(\"Yes\")\n",
    "else:\n",
    "    print(\"No\")"
   ]
  },
  {
   "cell_type": "markdown",
   "id": "669c2ade",
   "metadata": {},
   "source": [
    "# Chaining Multiple Conditions"
   ]
  },
  {
   "cell_type": "markdown",
   "id": "57eba7d8",
   "metadata": {
    "lang": "en"
   },
   "source": [
    "You can chain multiple conditional statements in an if statement using the Boolean operators.\n",
    "\n",
    "For example, we can check if the value of a grade is between 70 and 100:\n"
   ]
  },
  {
   "cell_type": "markdown",
   "id": "7f77419f",
   "metadata": {
    "lang": "tr"
   },
   "source": [
    "Boole işleçlerini kullanarak bir if ifadesinde birden çok koşullu ifadeyi zincirleyebilirsiniz.\n",
    "\n",
    "Örneğin, bir notun değerinin 70 ile 100 arasında olup olmadığını kontrol edebiliriz:"
   ]
  },
  {
   "cell_type": "code",
   "execution_count": 19,
   "id": "0241a607",
   "metadata": {},
   "outputs": [
    {
     "name": "stdout",
     "output_type": "stream",
     "text": [
      "passed!\n"
     ]
    }
   ],
   "source": [
    "grade = 88\n",
    "if (grade>= 70 and grade<=100):\n",
    "    print(\"passed!\")"
   ]
  },
  {
   "cell_type": "markdown",
   "id": "7a814816",
   "metadata": {
    "lang": "en"
   },
   "source": [
    "You can use multiple and, or, not operators to chain multiple conditions together."
   ]
  },
  {
   "cell_type": "markdown",
   "id": "1dfd4f46",
   "metadata": {
    "lang": "tr"
   },
   "source": [
    "Birden çok koşulu birbirine zincirlemek için birden çok ve/veya işleç kullanamazsınız."
   ]
  },
  {
   "cell_type": "code",
   "execution_count": 23,
   "id": "78d0d0b3",
   "metadata": {},
   "outputs": [
    {
     "name": "stdout",
     "output_type": "stream",
     "text": [
      "No\n"
     ]
    }
   ],
   "source": [
    "x = 4\n",
    "y = 2\n",
    "if not 1 + 1 ==y or x == 4 and 7==8:\n",
    "    print(\"Yes\")\n",
    "elif x>y:\n",
    "    print(\"No\")"
   ]
  },
  {
   "cell_type": "code",
   "execution_count": 24,
   "id": "22e1af70",
   "metadata": {
    "cell_style": "split"
   },
   "outputs": [
    {
     "data": {
      "text/plain": [
       "True"
      ]
     },
     "execution_count": 24,
     "metadata": {},
     "output_type": "execute_result"
    }
   ],
   "source": [
    "1 + 1 == y"
   ]
  },
  {
   "cell_type": "code",
   "execution_count": 26,
   "id": "8c8996bf",
   "metadata": {
    "cell_style": "split"
   },
   "outputs": [
    {
     "data": {
      "text/plain": [
       "True"
      ]
     },
     "execution_count": 26,
     "metadata": {},
     "output_type": "execute_result"
    }
   ],
   "source": [
    "x == 4"
   ]
  },
  {
   "cell_type": "markdown",
   "id": "af4c80b7",
   "metadata": {},
   "source": [
    "!!!! Zaten kodda elif kodunda x y den büyükse No yazdır dediği için sonuç direkt No döndürürü. "
   ]
  },
  {
   "cell_type": "markdown",
   "id": "70c69b0b",
   "metadata": {},
   "source": [
    "# Lists"
   ]
  },
  {
   "cell_type": "markdown",
   "id": "59d8e06a",
   "metadata": {
    "lang": "en"
   },
   "source": [
    "Lists are used to store items.\n",
    "A list is created using square brackets with commas separating items."
   ]
  },
  {
   "cell_type": "markdown",
   "id": "387a19ba",
   "metadata": {
    "lang": "tr"
   },
   "source": [
    "Listeler öğeleri saklamak için kullanılır.\n",
    "Öğeleri virgülle ayıran köşeli parantezler kullanılarak bir liste oluşturulur."
   ]
  },
  {
   "cell_type": "code",
   "execution_count": 29,
   "id": "cf3a4ede",
   "metadata": {},
   "outputs": [],
   "source": [
    "words = [\"Hello\", \"world\", \"!\"] # aslında burada 3 elemanlı bir liste oluşturduk dizi yapısında... \n",
    "                                # [0],[1],[2] indeks yapıları kullanarak elemanlara ulaşabiliriz."
   ]
  },
  {
   "cell_type": "markdown",
   "id": "99e20c92",
   "metadata": {
    "lang": "en"
   },
   "source": [
    "In the example above the words list contains three string items.\n",
    "\n",
    "A certain item in the list can be accessed by using its index in square brackets."
   ]
  },
  {
   "cell_type": "markdown",
   "id": "7ad465b9",
   "metadata": {
    "lang": "tr"
   },
   "source": [
    "Yukarıdaki örnekte, kelimeler listesi üç dize öğesi içerir.\n",
    "\n",
    "Listedeki belirli bir öğeye, köşeli parantez içindeki indeksi kullanılarak erişilebilir."
   ]
  },
  {
   "cell_type": "code",
   "execution_count": 32,
   "id": "53c5dd15",
   "metadata": {},
   "outputs": [
    {
     "name": "stdout",
     "output_type": "stream",
     "text": [
      "Hello\n",
      "world\n",
      "!\n"
     ]
    }
   ],
   "source": [
    "words = [\"Hello\", \"world\", \"!\"]\n",
    "print(words[0])\n",
    "print(words[1])\n",
    "print(words[2])"
   ]
  },
  {
   "cell_type": "code",
   "execution_count": 1,
   "id": "dda1d21e",
   "metadata": {},
   "outputs": [
    {
     "name": "stdout",
     "output_type": "stream",
     "text": [
      "4\n"
     ]
    }
   ],
   "source": [
    "nums = [5, 4, 3, 2, 1]\n",
    "print(nums[1])"
   ]
  },
  {
   "cell_type": "markdown",
   "id": "4761b033",
   "metadata": {
    "lang": "en"
   },
   "source": [
    "Sometimes you need to create an empty list and populate it later during the program. For example, if you are creating a queue management program, the queue is going to be empty in the beginning and get populated with people data later.\n",
    "\n",
    "An empty list is created with an empty pair of square brackets."
   ]
  },
  {
   "cell_type": "markdown",
   "id": "fa7088db",
   "metadata": {
    "lang": "tr"
   },
   "source": [
    "Bazen boş bir liste oluşturmanız ve daha sonra program sırasında doldurmanız gerekir. Örneğin, bir kuyruk yönetimi programı oluşturuyorsanız, kuyruk başlangıçta boş olacak ve daha sonra kişi verileriyle doldurulacaktır.\n",
    "\n",
    "Boş bir köşeli parantez çifti ile boş bir liste oluşturulur."
   ]
  },
  {
   "cell_type": "code",
   "execution_count": 2,
   "id": "a91ec0f8",
   "metadata": {},
   "outputs": [
    {
     "name": "stdout",
     "output_type": "stream",
     "text": [
      "[]\n"
     ]
    }
   ],
   "source": [
    "emty_list = []\n",
    "print(emty_list)"
   ]
  },
  {
   "cell_type": "code",
   "execution_count": 3,
   "id": "731ddf7c",
   "metadata": {},
   "outputs": [
    {
     "data": {
      "text/plain": [
       "[2]"
      ]
     },
     "execution_count": 3,
     "metadata": {},
     "output_type": "execute_result"
    }
   ],
   "source": [
    "[2,]"
   ]
  },
  {
   "cell_type": "markdown",
   "id": "3b14434c",
   "metadata": {
    "lang": "en"
   },
   "source": [
    "Typically, a list will contain items of a single item type, but it is also possible to include several different types.\n",
    "Lists can also be nested within other lists.\n"
   ]
  },
  {
   "cell_type": "markdown",
   "id": "bfd0fed4",
   "metadata": {
    "lang": "tr"
   },
   "source": [
    "Tipik olarak, bir liste tek bir öğe türünden öğeler içerecektir, ancak birkaç farklı türün dahil edilmesi de mümkündür.\n",
    "Listeler ayrıca diğer listelerin içine de yerleştirilebilir."
   ]
  },
  {
   "cell_type": "code",
   "execution_count": 7,
   "id": "f5b04211",
   "metadata": {},
   "outputs": [
    {
     "name": "stdout",
     "output_type": "stream",
     "text": [
      "0\n",
      "[1, 2, 2]\n",
      "[1, 2, 2] [2]\n"
     ]
    }
   ],
   "source": [
    "number = 2 \n",
    "things = [\"string\", 0, [1, 2, number], 4, 56]\n",
    "print(things[1])\n",
    "print(things[2])\n",
    "print(things[2],[2])\n",
    "\n",
    " "
   ]
  },
  {
   "cell_type": "markdown",
   "id": "2252cae5",
   "metadata": {
    "lang": "en"
   },
   "source": [
    "Nested lists can be used to represent 2D grids, such as matrices.\n"
   ]
  },
  {
   "cell_type": "markdown",
   "id": "10a8ca35",
   "metadata": {
    "lang": "tr"
   },
   "source": [
    "İç içe listeler, matrisler gibi 2B ızgaraları temsil etmek için kullanılabilir."
   ]
  },
  {
   "cell_type": "code",
   "execution_count": 21,
   "id": "e70a7fd9",
   "metadata": {},
   "outputs": [
    {
     "name": "stdout",
     "output_type": "stream",
     "text": [
      "67\n"
     ]
    }
   ],
   "source": [
    "list=[42, 55, 67]\n",
    "print(list[2])"
   ]
  },
  {
   "cell_type": "markdown",
   "id": "45f75bef",
   "metadata": {
    "lang": "en"
   },
   "source": [
    "Some types, such as strings, can be indexed like lists.\n",
    "Indexing strings behaves as though you are indexing a list containing each character in the string."
   ]
  },
  {
   "cell_type": "markdown",
   "id": "9c8bd655",
   "metadata": {
    "lang": "tr"
   },
   "source": [
    "Dizeler gibi bazı türler listeler gibi dizine eklenebilir.\n",
    "Dizin oluşturma dizeleri, dizedeki her karakteri içeren bir listeyi dizinliyormuşsunuz gibi davranır."
   ]
  },
  {
   "cell_type": "code",
   "execution_count": 22,
   "id": "a07559da",
   "metadata": {},
   "outputs": [
    {
     "name": "stdout",
     "output_type": "stream",
     "text": [
      "w\n"
     ]
    }
   ],
   "source": [
    "str = \"Hello world!\"\n",
    "print(str[6])"
   ]
  },
  {
   "cell_type": "markdown",
   "id": "883e2500",
   "metadata": {
    "lang": "en"
   },
   "source": [
    "Space (\" \") is also a symbol and has an index."
   ]
  },
  {
   "cell_type": "markdown",
   "id": "871d878f",
   "metadata": {
    "lang": "tr"
   },
   "source": [
    "Boşluk (\" \") de bir semboldür ve bir indeksi vardır."
   ]
  },
  {
   "cell_type": "markdown",
   "id": "1da801ec",
   "metadata": {
    "lang": "tr"
   },
   "source": [
    "Var olmayan bir dizine erişmeye çalışmak bir hata üretecektir."
   ]
  },
  {
   "cell_type": "code",
   "execution_count": 25,
   "id": "3139d962",
   "metadata": {},
   "outputs": [
    {
     "name": "stdout",
     "output_type": "stream",
     "text": [
      "5\n",
      "2\n"
     ]
    },
    {
     "ename": "IndexError",
     "evalue": "list index out of range",
     "output_type": "error",
     "traceback": [
      "\u001b[1;31m---------------------------------------------------------------------------\u001b[0m",
      "\u001b[1;31mIndexError\u001b[0m                                Traceback (most recent call last)",
      "\u001b[1;32m<ipython-input-25-d8528fe91d26>\u001b[0m in \u001b[0;36m<module>\u001b[1;34m\u001b[0m\n\u001b[0;32m      2\u001b[0m \u001b[0mprint\u001b[0m\u001b[1;33m(\u001b[0m\u001b[0mnum\u001b[0m\u001b[1;33m[\u001b[0m\u001b[1;36m0\u001b[0m\u001b[1;33m]\u001b[0m\u001b[1;33m)\u001b[0m\u001b[1;33m\u001b[0m\u001b[1;33m\u001b[0m\u001b[0m\n\u001b[0;32m      3\u001b[0m \u001b[0mprint\u001b[0m\u001b[1;33m(\u001b[0m\u001b[0mnum\u001b[0m\u001b[1;33m[\u001b[0m\u001b[1;36m3\u001b[0m\u001b[1;33m]\u001b[0m\u001b[1;33m[\u001b[0m\u001b[1;36m0\u001b[0m\u001b[1;33m]\u001b[0m\u001b[1;33m)\u001b[0m\u001b[1;33m\u001b[0m\u001b[1;33m\u001b[0m\u001b[0m\n\u001b[1;32m----> 4\u001b[1;33m \u001b[0mprint\u001b[0m\u001b[1;33m(\u001b[0m\u001b[0mnum\u001b[0m\u001b[1;33m[\u001b[0m\u001b[1;36m5\u001b[0m\u001b[1;33m]\u001b[0m\u001b[1;33m)\u001b[0m\u001b[1;33m\u001b[0m\u001b[1;33m\u001b[0m\u001b[0m\n\u001b[0m",
      "\u001b[1;31mIndexError\u001b[0m: list index out of range"
     ]
    }
   ],
   "source": [
    "num = [5, 4, 3, [2], 1]\n",
    "print(num[0])\n",
    "print(num[3][0])\n",
    "print(num[5])"
   ]
  },
  {
   "cell_type": "markdown",
   "id": "97219c01",
   "metadata": {
    "lang": "en"
   },
   "source": [
    "# List Operations\n"
   ]
  },
  {
   "cell_type": "markdown",
   "id": "897ab07b",
   "metadata": {
    "lang": "en"
   },
   "source": [
    "The item at a certain index in a list can be reassigned.\n"
   ]
  },
  {
   "cell_type": "markdown",
   "id": "b445e982",
   "metadata": {
    "lang": "tr"
   },
   "source": [
    "Listedeki belirli bir dizindeki öğe yeniden atanabilir."
   ]
  },
  {
   "cell_type": "code",
   "execution_count": 27,
   "id": "a996cbb4",
   "metadata": {},
   "outputs": [
    {
     "name": "stdout",
     "output_type": "stream",
     "text": [
      "[7, 7, 5, 7, 7, 7]\n"
     ]
    }
   ],
   "source": [
    "nums = [7, 7, 7, 7, 7, 7]\n",
    "nums[2] = 5\n",
    "print(nums)"
   ]
  },
  {
   "cell_type": "markdown",
   "id": "c6c397b1",
   "metadata": {
    "lang": "en"
   },
   "source": [
    "You can replace the item with an item of a different type."
   ]
  },
  {
   "cell_type": "markdown",
   "id": "0687623f",
   "metadata": {
    "lang": "tr"
   },
   "source": [
    "Öğeyi farklı türde bir öğeyle değiştirebilirsiniz."
   ]
  },
  {
   "cell_type": "code",
   "execution_count": 31,
   "id": "dab8e5bc",
   "metadata": {},
   "outputs": [
    {
     "name": "stdout",
     "output_type": "stream",
     "text": [
      "2\n"
     ]
    },
    {
     "data": {
      "text/plain": [
       "[1, 2, 3, 2, 5]"
      ]
     },
     "execution_count": 31,
     "metadata": {},
     "output_type": "execute_result"
    }
   ],
   "source": [
    "nums =[1,2,3,4,5]\n",
    "nums[3]= nums[1]\n",
    "print(nums[3])\n",
    "nums"
   ]
  },
  {
   "cell_type": "code",
   "execution_count": null,
   "id": "1d21dc87",
   "metadata": {
    "lang": "en"
   },
   "outputs": [],
   "source": [
    "Lists can be added and multiplied in the same way as strings.\n",
    "For example:"
   ]
  },
  {
   "cell_type": "markdown",
   "id": "8beac6f5",
   "metadata": {
    "lang": "tr"
   },
   "source": [
    "Listeler, dizelerle aynı şekilde eklenebilir ve çoğaltılabilir.\n",
    "Örneğin:"
   ]
  },
  {
   "cell_type": "code",
   "execution_count": 33,
   "id": "9464e8b0",
   "metadata": {},
   "outputs": [
    {
     "name": "stdout",
     "output_type": "stream",
     "text": [
      "[1, 2, 3, 4, 5, 6]\n",
      "[1, 2, 3, 1, 2, 3, 1, 2, 3]\n"
     ]
    }
   ],
   "source": [
    "nums = [1, 2, 3]\n",
    "print(nums + [4, 5, 6])\n",
    "print(nums * 3)"
   ]
  },
  {
   "cell_type": "markdown",
   "id": "c548cc4a",
   "metadata": {
    "lang": "en"
   },
   "source": [
    "Lists and strings are similar in many ways - strings can be thought of as lists of characters that can't be changed."
   ]
  },
  {
   "cell_type": "markdown",
   "id": "bf70da3b",
   "metadata": {
    "lang": "tr"
   },
   "source": [
    "Listeler ve dizeler birçok yönden benzerdir - dizeler, değiştirilemeyen karakter listeleri olarak düşünülebilir."
   ]
  },
  {
   "cell_type": "markdown",
   "id": "1c9abcf0",
   "metadata": {
    "lang": "en"
   },
   "source": [
    "For example, the string \"Hello\" can be thought of as a list, where each character is an item in the list. The first item is \"H\", the second item is \"e\", and so on."
   ]
  },
  {
   "cell_type": "markdown",
   "id": "18b36799",
   "metadata": {
    "lang": "tr"
   },
   "source": [
    "Örneğin, \"Hello\" dizesi, her karakterin listedeki bir öğe olduğu bir liste olarak düşünülebilir. İlk öğe \"H\", ikinci öğe \"e\" vb."
   ]
  },
  {
   "cell_type": "code",
   "execution_count": 34,
   "id": "1336c11c",
   "metadata": {},
   "outputs": [
    {
     "name": "stdout",
     "output_type": "stream",
     "text": [
      "[33, 42, 22]\n"
     ]
    }
   ],
   "source": [
    "nums = [33, 42, 56]\n",
    "nums[2] = 22\n",
    "print(nums)"
   ]
  },
  {
   "cell_type": "markdown",
   "id": "c588917f",
   "metadata": {
    "lang": "en"
   },
   "source": [
    "To check if an item is in a list, the in operator can be used.\n",
    "It returns True if the item occurs one or more times in the list, and False if it doesn't"
   ]
  },
  {
   "cell_type": "markdown",
   "id": "55bf5f31",
   "metadata": {
    "lang": "tr"
   },
   "source": [
    "Bir öğenin listede olup olmadığını kontrol etmek için in operatörü kullanılabilir.\n",
    "Öğe listede bir veya daha fazla kez geçerse True, yoksa False döndürür."
   ]
  },
  {
   "cell_type": "code",
   "execution_count": null,
   "id": "eb0eb1a9",
   "metadata": {},
   "outputs": [],
   "source": [
    "words = [\"spam\", \"egg\", \"\"]"
   ]
  },
  {
   "cell_type": "code",
   "execution_count": 37,
   "id": "12d7e9d7",
   "metadata": {},
   "outputs": [
    {
     "name": "stdout",
     "output_type": "stream",
     "text": [
      "7\n"
     ]
    }
   ],
   "source": [
    "nums=[10,9,8,7,6,5]\n",
    "nums[0] = nums[1]-5\n",
    "if 4 in nums :\n",
    "    print(nums[3])\n",
    "else:\n",
    "    print(num[4])"
   ]
  },
  {
   "cell_type": "code",
   "execution_count": null,
   "id": "519e643d",
   "metadata": {
    "lang": "en"
   },
   "outputs": [],
   "source": [
    "To check if an item is not in a list, you can use the not operator in one of the following ways:"
   ]
  },
  {
   "cell_type": "markdown",
   "id": "3c00355c",
   "metadata": {
    "lang": "tr"
   },
   "source": [
    "Bir öğenin listede olup olmadığını kontrol etmek için not operatörünü aşağıdaki yollardan biriyle kullanabilirsiniz:"
   ]
  },
  {
   "cell_type": "code",
   "execution_count": 39,
   "id": "01a36802",
   "metadata": {},
   "outputs": [
    {
     "name": "stdout",
     "output_type": "stream",
     "text": [
      "True\n",
      "True\n"
     ]
    }
   ],
   "source": [
    "nums = [1, 2, 3]\n",
    "print(not 4 in nums)\n",
    "print(4 not in nums)"
   ]
  },
  {
   "cell_type": "markdown",
   "id": "46a0986b",
   "metadata": {
    "lang": "en"
   },
   "source": [
    "Tap Try It Yourself to play around with the code!"
   ]
  },
  {
   "cell_type": "markdown",
   "id": "67878c6e",
   "metadata": {
    "lang": "tr"
   },
   "source": [
    "Kodla oynamak için Kendin Dene'ye dokunun!"
   ]
  },
  {
   "cell_type": "code",
   "execution_count": 40,
   "id": "386a92de",
   "metadata": {},
   "outputs": [
    {
     "name": "stdout",
     "output_type": "stream",
     "text": [
      "Yes\n"
     ]
    }
   ],
   "source": [
    "letters= [\"a\", \"b\", \"z\"]\n",
    "if \"z\" in letters:\n",
    "    print(\"Yes\")"
   ]
  },
  {
   "cell_type": "code",
   "execution_count": null,
   "id": "433d0f9a",
   "metadata": {
    "lang": "en"
   },
   "outputs": [],
   "source": [
    "Write a program that checks if the water is boiling.\n",
    "Take the integer temperature in Celsius as input and output \"Boiling\" if the temperature is above or equal to 100.\n",
    "\n",
    "Sample Input\n",
    "105\n",
    "\n",
    "Sample Output\n",
    "Boiling\n"
   ]
  },
  {
   "cell_type": "markdown",
   "id": "92072ecd",
   "metadata": {
    "lang": "tr"
   },
   "source": [
    "Suyun kaynayıp kaynamadığını kontrol eden bir program yazınız.\n",
    "Sıcaklık 100'ün üzerinde veya ona eşitse, giriş ve çıkış olarak \"Kaynama\" olarak Celsius cinsinden tamsayı sıcaklığını alın.\n",
    "\n",
    "Örnek Giriş\n",
    "105\n",
    "\n",
    "Örnek Çıktı\n",
    "Kaynamak"
   ]
  },
  {
   "cell_type": "code",
   "execution_count": 43,
   "id": "b4b624a8",
   "metadata": {},
   "outputs": [
    {
     "name": "stdout",
     "output_type": "stream",
     "text": [
      "100\n",
      "Boiling\n"
     ]
    }
   ],
   "source": [
    "temp = int(input())\n",
    "if temp >= 100 :\n",
    "    print(\"Boiling\")\n",
    "else:\n",
    "    print(\"No\")"
   ]
  },
  {
   "cell_type": "markdown",
   "id": "0aaa9944",
   "metadata": {},
   "source": [
    "# List Functions"
   ]
  },
  {
   "cell_type": "markdown",
   "id": "8fd067d6",
   "metadata": {
    "lang": "en"
   },
   "source": [
    "The append method adds an item to the end of an existing list.\n",
    "For example:"
   ]
  },
  {
   "cell_type": "markdown",
   "id": "ab1c1093",
   "metadata": {
    "lang": "tr"
   },
   "source": [
    "Ekleme yöntemi, mevcut bir listenin sonuna bir öğe ekler.\n",
    "Örneğin:"
   ]
  },
  {
   "cell_type": "code",
   "execution_count": 2,
   "id": "db193776",
   "metadata": {},
   "outputs": [
    {
     "name": "stdout",
     "output_type": "stream",
     "text": [
      "[1, 2, 3, 4]\n"
     ]
    }
   ],
   "source": [
    "nums = [1, 2, 3]\n",
    "nums.append(4)\n",
    "print(nums)"
   ]
  },
  {
   "cell_type": "markdown",
   "id": "71400094",
   "metadata": {
    "lang": "en"
   },
   "source": [
    "The dot before append is there because it is a method of the list class. Methods will be explained in a later lesson"
   ]
  },
  {
   "cell_type": "markdown",
   "id": "df299afb",
   "metadata": {
    "lang": "tr"
   },
   "source": [
    "Eklemeden önceki nokta, liste sınıfının bir yöntemi olduğu için oradadır. Yöntemler daha sonraki bir derste açıklanacaktır."
   ]
  },
  {
   "cell_type": "code",
   "execution_count": 8,
   "id": "1318bac1",
   "metadata": {},
   "outputs": [
    {
     "name": "stdout",
     "output_type": "stream",
     "text": [
      "['hello', 'world']\n",
      "world\n"
     ]
    }
   ],
   "source": [
    "words = [\"hello\"]\n",
    "words.append(\"world\")\n",
    "print(words)\n",
    "print(words[1])"
   ]
  },
  {
   "cell_type": "markdown",
   "id": "5f7b040f",
   "metadata": {
    "lang": "en"
   },
   "source": [
    "To get the number of items in a list, you can use the len function."
   ]
  },
  {
   "cell_type": "markdown",
   "id": "ddc44604",
   "metadata": {
    "lang": "tr"
   },
   "source": [
    "Bir listedeki öğelerin sayısını almak için len işlevini kullanabilirsiniz."
   ]
  },
  {
   "cell_type": "code",
   "execution_count": 9,
   "id": "7b1df757",
   "metadata": {},
   "outputs": [
    {
     "name": "stdout",
     "output_type": "stream",
     "text": [
      "5\n"
     ]
    }
   ],
   "source": [
    "nums = [1, 3, 5, 2, 4]\n",
    "print(len(nums))"
   ]
  },
  {
   "cell_type": "code",
   "execution_count": null,
   "id": "a8b398fe",
   "metadata": {
    "lang": "en"
   },
   "outputs": [],
   "source": [
    "Unlike the index of the items, len does not start with 0. So, the list above contains 5 items, meaning len will return 5."
   ]
  },
  {
   "cell_type": "markdown",
   "id": "6f4b1154",
   "metadata": {
    "lang": "tr"
   },
   "source": [
    "Öğelerin dizininden farklı olarak, len 0 ile başlamaz. Dolayısıyla, yukarıdaki liste 5 öğe içerir, yani len 5 döndürür."
   ]
  },
  {
   "cell_type": "code",
   "execution_count": null,
   "id": "4bea6614",
   "metadata": {
    "lang": "en"
   },
   "outputs": [],
   "source": [
    "len is written before the list it is being called on, without a dot."
   ]
  },
  {
   "cell_type": "markdown",
   "id": "60cde012",
   "metadata": {
    "lang": "tr"
   },
   "source": [
    "len, çağrıldığı listeden önce nokta olmadan yazılır."
   ]
  },
  {
   "cell_type": "code",
   "execution_count": 11,
   "id": "10b3f833",
   "metadata": {},
   "outputs": [
    {
     "name": "stdout",
     "output_type": "stream",
     "text": [
      "4\n"
     ]
    }
   ],
   "source": [
    "letter = [\"a\",\"b\",\"c\"]\n",
    "letter.append(\"d\")\n",
    "print(len(letter))"
   ]
  },
  {
   "cell_type": "code",
   "execution_count": null,
   "id": "a7bfb918",
   "metadata": {
    "lang": "en"
   },
   "outputs": [],
   "source": [
    "The insert method is similar to append, except that it allows you to insert a new item at any position in the list, as opposed to just at the end."
   ]
  },
  {
   "cell_type": "markdown",
   "id": "8d05ba54",
   "metadata": {
    "lang": "tr"
   },
   "source": [
    "Ekleme yöntemi, yeni bir öğeyi listenin sonuna değil, herhangi bir yerine eklemenize izin vermesi dışında, eklemeye benzer."
   ]
  },
  {
   "cell_type": "code",
   "execution_count": 12,
   "id": "d8115106",
   "metadata": {},
   "outputs": [
    {
     "name": "stdout",
     "output_type": "stream",
     "text": [
      "['Python', 'is', 'fun']\n"
     ]
    }
   ],
   "source": [
    "words = [\"Python\", \"fun\"]\n",
    "index = 1 \n",
    "words.insert(index, \"is\")\n",
    "print(words)"
   ]
  },
  {
   "cell_type": "code",
   "execution_count": 14,
   "id": "60f107e7",
   "metadata": {},
   "outputs": [
    {
     "name": "stdout",
     "output_type": "stream",
     "text": [
      "['Python', 'is', 'fun']\n"
     ]
    }
   ],
   "source": [
    "words = [\"Python\", \"fun\"]\n",
    "words.insert(1, \"is\")\n",
    "print(words)"
   ]
  },
  {
   "cell_type": "code",
   "execution_count": null,
   "id": "d22a63d3",
   "metadata": {
    "lang": "en"
   },
   "outputs": [],
   "source": [
    "Elements, that are after the inserted item, are shifted to the right."
   ]
  },
  {
   "cell_type": "markdown",
   "id": "81dbf92f",
   "metadata": {
    "lang": "tr"
   },
   "source": [
    "Eklenen öğeden sonraki öğeler sağa kaydırılır."
   ]
  },
  {
   "cell_type": "code",
   "execution_count": 15,
   "id": "7097ed17",
   "metadata": {},
   "outputs": [
    {
     "name": "stdout",
     "output_type": "stream",
     "text": [
      "7\n"
     ]
    }
   ],
   "source": [
    "nums=[9,8,7,6,5]\n",
    "nums.append(4)\n",
    "nums.insert(2,11)\n",
    "print(len(nums))"
   ]
  },
  {
   "cell_type": "code",
   "execution_count": null,
   "id": "6cf58e95",
   "metadata": {
    "lang": "en"
   },
   "outputs": [],
   "source": [
    "Drag and drop from the options below to add 'z' to the end of the list and print the list's length."
   ]
  },
  {
   "cell_type": "markdown",
   "id": "d93c66ef",
   "metadata": {
    "lang": "tr"
   },
   "source": [
    "Listenin sonuna 'z' eklemek ve listenin uzunluğunu yazdırmak için aşağıdaki seçeneklerden sürükleyip bırakın."
   ]
  },
  {
   "cell_type": "code",
   "execution_count": 17,
   "id": "b530031c",
   "metadata": {},
   "outputs": [
    {
     "name": "stdout",
     "output_type": "stream",
     "text": [
      "1\n"
     ]
    }
   ],
   "source": [
    "list = []\n",
    "list.append(\"z\")\n",
    "print(len(list))"
   ]
  },
  {
   "cell_type": "code",
   "execution_count": null,
   "id": "c11f2a99",
   "metadata": {},
   "outputs": [],
   "source": [
    "print(\"ibrahim\")"
   ]
  },
  {
   "cell_type": "code",
   "execution_count": null,
   "id": "434c95b5",
   "metadata": {},
   "outputs": [],
   "source": []
  },
  {
   "cell_type": "code",
   "execution_count": null,
   "id": "cbe2bef5",
   "metadata": {},
   "outputs": [],
   "source": []
  },
  {
   "cell_type": "code",
   "execution_count": null,
   "id": "415e319c",
   "metadata": {},
   "outputs": [],
   "source": []
  },
  {
   "cell_type": "code",
   "execution_count": null,
   "id": "08e41e49",
   "metadata": {},
   "outputs": [],
   "source": []
  },
  {
   "cell_type": "code",
   "execution_count": null,
   "id": "d341f891",
   "metadata": {},
   "outputs": [],
   "source": []
  },
  {
   "cell_type": "code",
   "execution_count": null,
   "id": "5b63267e",
   "metadata": {},
   "outputs": [],
   "source": []
  },
  {
   "cell_type": "code",
   "execution_count": null,
   "id": "9ad2d058",
   "metadata": {},
   "outputs": [],
   "source": []
  },
  {
   "cell_type": "code",
   "execution_count": null,
   "id": "d64366a2",
   "metadata": {},
   "outputs": [],
   "source": []
  }
 ],
 "metadata": {
  "kernelspec": {
   "display_name": "Python 3",
   "language": "python",
   "name": "python3"
  },
  "language_info": {
   "codemirror_mode": {
    "name": "ipython",
    "version": 3
   },
   "file_extension": ".py",
   "mimetype": "text/x-python",
   "name": "python",
   "nbconvert_exporter": "python",
   "pygments_lexer": "ipython3",
   "version": "3.8.8"
  },
  "nbTranslate": {
   "displayLangs": [
    "tr"
   ],
   "hotkey": "alt-t",
   "langInMainMenu": true,
   "sourceLang": "en",
   "targetLang": "tr",
   "useGoogleTranslate": true
  },
  "toc": {
   "base_numbering": 1,
   "nav_menu": {},
   "number_sections": true,
   "sideBar": true,
   "skip_h1_title": false,
   "title_cell": "Table of Contents",
   "title_sidebar": "Contents",
   "toc_cell": true,
   "toc_position": {
    "height": "calc(100% - 180px)",
    "left": "10px",
    "top": "150px",
    "width": "165px"
   },
   "toc_section_display": true,
   "toc_window_display": true
  }
 },
 "nbformat": 4,
 "nbformat_minor": 5
}
