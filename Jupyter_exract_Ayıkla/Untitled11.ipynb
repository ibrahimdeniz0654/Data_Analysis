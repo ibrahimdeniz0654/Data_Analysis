{
 "cells": [
  {
   "cell_type": "code",
   "execution_count": 14,
   "id": "129b2203",
   "metadata": {},
   "outputs": [],
   "source": [
    "cümle = \"bazen ODUN olmak istemişimdir.\""
   ]
  },
  {
   "cell_type": "code",
   "execution_count": 13,
   "id": "93fec8a7",
   "metadata": {},
   "outputs": [
    {
     "ename": "SyntaxError",
     "evalue": "invalid syntax (<ipython-input-13-83681b55a42e>, line 1)",
     "output_type": "error",
     "traceback": [
      "\u001b[1;36m  File \u001b[1;32m\"<ipython-input-13-83681b55a42e>\"\u001b[1;36m, line \u001b[1;32m1\u001b[0m\n\u001b[1;33m    filter(, cümle)\u001b[0m\n\u001b[1;37m           ^\u001b[0m\n\u001b[1;31mSyntaxError\u001b[0m\u001b[1;31m:\u001b[0m invalid syntax\n"
     ]
    }
   ],
   "source": [
    "filter(, cümle)"
   ]
  },
  {
   "cell_type": "code",
   "execution_count": 17,
   "id": "1ef9554a",
   "metadata": {},
   "outputs": [],
   "source": [
    "def voweler() :\n",
    "    vowels = [\"o\", \"e\", \"i\", \"ı\", \"ü\", \"ö\", \"a\"]\n",
    "    \n",
    "    if letter.lower() in vowels :\n",
    "        return True\n",
    "    else :\n",
    "        return False\n",
    "        "
   ]
  },
  {
   "cell_type": "code",
   "execution_count": 11,
   "id": "28caec48",
   "metadata": {},
   "outputs": [],
   "source": [
    "filtered_vowels = filter(voweler, cümle)"
   ]
  },
  {
   "cell_type": "code",
   "execution_count": 18,
   "id": "838d3694",
   "metadata": {},
   "outputs": [
    {
     "ename": "TypeError",
     "evalue": "voweler() takes 0 positional arguments but 1 was given",
     "output_type": "error",
     "traceback": [
      "\u001b[1;31m---------------------------------------------------------------------------\u001b[0m",
      "\u001b[1;31mTypeError\u001b[0m                                 Traceback (most recent call last)",
      "\u001b[1;32m<ipython-input-18-9864cae534b9>\u001b[0m in \u001b[0;36m<module>\u001b[1;34m\u001b[0m\n\u001b[1;32m----> 1\u001b[1;33m \u001b[0mlist\u001b[0m\u001b[1;33m(\u001b[0m\u001b[0mfiltered_vowels\u001b[0m\u001b[1;33m)\u001b[0m\u001b[1;33m\u001b[0m\u001b[1;33m\u001b[0m\u001b[0m\n\u001b[0m",
      "\u001b[1;31mTypeError\u001b[0m: voweler() takes 0 positional arguments but 1 was given"
     ]
    }
   ],
   "source": [
    "list(filtered_vowels)"
   ]
  },
  {
   "cell_type": "code",
   "execution_count": 16,
   "id": "5760c994",
   "metadata": {},
   "outputs": [
    {
     "data": {
      "text/plain": [
       "'For me, Bill Gates and Guido van Rossum are geniuses.'"
      ]
     },
     "execution_count": 16,
     "metadata": {},
     "output_type": "execute_result"
    }
   ],
   "source": [
    "def merger (a, b, c, d):\n",
    "    return f'For me, {a} {d} and {c} {b} are geniuses.'\n",
    "genius = (\"Bill\", \"Rossum\", \"Guido van\", \"Gates\")\n",
    "merger(*genius)"
   ]
  },
  {
   "cell_type": "code",
   "execution_count": 22,
   "id": "045bee76",
   "metadata": {},
   "outputs": [],
   "source": [
    "def gene(x = \"Solomon\", y = \"David\"):\n",
    "    print(x, \"belongs to Generation X\")\n",
    "    print(y, \"belongs to Generation Y\")"
   ]
  },
  {
   "cell_type": "code",
   "execution_count": 26,
   "id": "f3146ce4",
   "metadata": {},
   "outputs": [],
   "source": [
    "dict_gene = {\"x\" : \"Marry\", \"y\" : \"Fred\"}"
   ]
  },
  {
   "cell_type": "code",
   "execution_count": 27,
   "id": "904ba231",
   "metadata": {},
   "outputs": [
    {
     "name": "stdout",
     "output_type": "stream",
     "text": [
      "Marry belongs to Generation X\n",
      "Fred belongs to Generation Y\n"
     ]
    }
   ],
   "source": [
    "gene(**dict_gene)"
   ]
  },
  {
   "cell_type": "code",
   "execution_count": 31,
   "id": "85667333",
   "metadata": {},
   "outputs": [],
   "source": [
    "dict_couple = {\"bride\" : [\"mary\", \"bella\", \"linda\", \"emma\"],\n",
    "               \"groom\" : [\"jack\", \"robert\", \"eric\", \"Adam\"]}"
   ]
  },
  {
   "cell_type": "code",
   "execution_count": 32,
   "id": "b8042dc3",
   "metadata": {},
   "outputs": [],
   "source": [
    "def muruvvet(bride, groom) :\n",
    "    couple_list = [] \n",
    "    for x in zip(bride, groom):\n",
    "        couple_list.append(x) \n",
    "        return couple_list"
   ]
  },
  {
   "cell_type": "code",
   "execution_count": 33,
   "id": "5be5bb89",
   "metadata": {},
   "outputs": [
    {
     "data": {
      "text/plain": [
       "[('mary', 'jack')]"
      ]
     },
     "execution_count": 33,
     "metadata": {},
     "output_type": "execute_result"
    }
   ],
   "source": [
    "muruvvet(**dict_couple)"
   ]
  },
  {
   "cell_type": "code",
   "execution_count": 35,
   "id": "df6b0cd1",
   "metadata": {},
   "outputs": [],
   "source": [
    "def muruvvet_2(bride, groom) :\n",
    "    return [x for x in zip(bride,groom)]"
   ]
  },
  {
   "cell_type": "code",
   "execution_count": 36,
   "id": "1d4f2f13",
   "metadata": {},
   "outputs": [],
   "source": [
    "friends = {\"alfred\" :  44, \"thomas\" : 56, \"emily\" :22}"
   ]
  },
  {
   "cell_type": "code",
   "execution_count": null,
   "id": "a7666034",
   "metadata": {},
   "outputs": [],
   "source": [
    "meaner(alfred, thomas, )"
   ]
  }
 ],
 "metadata": {
  "kernelspec": {
   "display_name": "Python 3",
   "language": "python",
   "name": "python3"
  },
  "language_info": {
   "codemirror_mode": {
    "name": "ipython",
    "version": 3
   },
   "file_extension": ".py",
   "mimetype": "text/x-python",
   "name": "python",
   "nbconvert_exporter": "python",
   "pygments_lexer": "ipython3",
   "version": "3.8.8"
  }
 },
 "nbformat": 4,
 "nbformat_minor": 5
}
