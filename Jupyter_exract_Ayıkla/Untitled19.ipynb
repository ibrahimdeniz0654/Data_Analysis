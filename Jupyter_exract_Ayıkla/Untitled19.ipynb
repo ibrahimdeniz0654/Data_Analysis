{
 "cells": [
  {
   "cell_type": "code",
   "execution_count": 20,
   "id": "c38f16da",
   "metadata": {},
   "outputs": [
    {
     "name": "stdout",
     "output_type": "stream",
     "text": [
      "The first number please : 7\n",
      "The second number please : 0\n",
      "something is wrong.\n",
      "The first number please : 7\n",
      "The second number please : 1\n",
      "The result of the division is :  7.0\n"
     ]
    }
   ],
   "source": [
    "while True:\n",
    "    no_one = int(input(\"The first number please : \"))\n",
    "    no_two = int(input(\"The second number please : \"))\n",
    "    \n",
    "    try :\n",
    "        division = no_one / no_two\n",
    "        print(\"The result of the division is : \", division)\n",
    "        break \n",
    "    except : \n",
    "        print(\"something is wrong.\")"
   ]
  },
  {
   "cell_type": "code",
   "execution_count": 17,
   "id": "60bc2ec9",
   "metadata": {},
   "outputs": [
    {
     "name": "stdout",
     "output_type": "stream",
     "text": [
      "44\n"
     ]
    }
   ],
   "source": [
    "try : \n",
    "    print(\"4\" + \"4\")\n",
    "    \n",
    "except : \n",
    "    print(\"muhtemelen yanlış birşey oldu.\")"
   ]
  },
  {
   "cell_type": "code",
   "execution_count": null,
   "id": "d1acf890",
   "metadata": {},
   "outputs": [],
   "source": [
    "while True:\n",
    "    no_one = int(input(\"The first number please : \"))\n",
    "    no_two = int(input(\"The second number please : \"))\n",
    "    \n",
    "    try :\n",
    "        division = no_one / no_two\n",
    "        print(\"The result of the division is : \", division)\n",
    "        break \n",
    "    except : \n",
    "        print(\"Sıfıra Bölünme Hatası var. ikinci sayısı 0 girmeyiniz\")"
   ]
  },
  {
   "cell_type": "code",
   "execution_count": null,
   "id": "1ed256a8",
   "metadata": {},
   "outputs": [],
   "source": [
    "try : \n",
    "    file = open(\"my_file.txt\", \"r\")\n",
    "    print(file.close())\n",
    "except : \n",
    "    print(\"There is not such a file or the path is incorrect.\")"
   ]
  },
  {
   "cell_type": "code",
   "execution_count": null,
   "id": "788d9e91",
   "metadata": {},
   "outputs": [],
   "source": [
    "file = open(\"my_file.txt\", \"r\")\n",
    "    print(file.close())\n",
    "file.close()\n",
    "finally: file.close()"
   ]
  },
  {
   "cell_type": "code",
   "execution_count": null,
   "id": "2d2182bc",
   "metadata": {},
   "outputs": [],
   "source": []
  },
  {
   "cell_type": "code",
   "execution_count": null,
   "id": "e1f04659",
   "metadata": {},
   "outputs": [],
   "source": []
  }
 ],
 "metadata": {
  "kernelspec": {
   "display_name": "Python 3",
   "language": "python",
   "name": "python3"
  },
  "language_info": {
   "codemirror_mode": {
    "name": "ipython",
    "version": 3
   },
   "file_extension": ".py",
   "mimetype": "text/x-python",
   "name": "python",
   "nbconvert_exporter": "python",
   "pygments_lexer": "ipython3",
   "version": "3.8.8"
  }
 },
 "nbformat": 4,
 "nbformat_minor": 5
}
