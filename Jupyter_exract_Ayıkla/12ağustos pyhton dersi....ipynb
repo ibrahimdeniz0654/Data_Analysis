{
 "cells": [
  {
   "cell_type": "code",
   "execution_count": 2,
   "id": "79fead72",
   "metadata": {},
   "outputs": [
    {
     "name": "stdout",
     "output_type": "stream",
     "text": [
      "1 >> odd\n",
      "2 >> even\n",
      "3 >> odd\n",
      "4 >> even\n"
     ]
    }
   ],
   "source": [
    "for sayi in range(1,5):\n",
    "    print(sayi,\">>\",(lambda sayi :\"even\" if sayi %2==0 else \"odd\")(sayi))"
   ]
  },
  {
   "cell_type": "code",
   "execution_count": 3,
   "id": "291cde68",
   "metadata": {},
   "outputs": [],
   "source": [
    "average = lambda x, y : (x + y)/2"
   ]
  },
  {
   "cell_type": "code",
   "execution_count": 6,
   "id": "e8b82698",
   "metadata": {},
   "outputs": [
    {
     "name": "stdout",
     "output_type": "stream",
     "text": [
      "4.0\n"
     ]
    }
   ],
   "source": [
    "print(average(3, 5))"
   ]
  },
  {
   "cell_type": "code",
   "execution_count": 7,
   "id": "ae839390",
   "metadata": {},
   "outputs": [],
   "source": [
    "iterable = \"clarusway\""
   ]
  },
  {
   "cell_type": "code",
   "execution_count": 8,
   "id": "d9358af7",
   "metadata": {},
   "outputs": [],
   "source": [
    "reverser = lambda x: x[::-1]"
   ]
  },
  {
   "cell_type": "code",
   "execution_count": 9,
   "id": "134f9d3a",
   "metadata": {},
   "outputs": [
    {
     "data": {
      "text/plain": [
       "'yawsuralc'"
      ]
     },
     "execution_count": 9,
     "metadata": {},
     "output_type": "execute_result"
    }
   ],
   "source": [
    "reverser(iterable)"
   ]
  },
  {
   "cell_type": "code",
   "execution_count": 10,
   "id": "104f96b1",
   "metadata": {},
   "outputs": [
    {
     "data": {
      "text/plain": [
       "'3.kullanım.'"
      ]
     },
     "execution_count": 10,
     "metadata": {},
     "output_type": "execute_result"
    }
   ],
   "source": [
    "\"\"\"3.kullanım.\"\"\""
   ]
  },
  {
   "cell_type": "code",
   "execution_count": null,
   "id": "176d7a35",
   "metadata": {},
   "outputs": [],
   "source": [
    "# the basic formula syntax is : map(fuction, iterable)"
   ]
  },
  {
   "cell_type": "code",
   "execution_count": 12,
   "id": "36d2ea8c",
   "metadata": {},
   "outputs": [],
   "source": [
    "letter1 = ['o', 's', 't', 't']\n",
    "letter2 = ['n', 'i', 'e', 'w']\n",
    "letter3 = ['e', 'x', 'n', 'o']\n",
    "numbers = map(lambda x, y, z: x+y+z, letter1, letter2, letter3)"
   ]
  },
  {
   "cell_type": "code",
   "execution_count": 13,
   "id": "1fea33ac",
   "metadata": {},
   "outputs": [],
   "source": [
    "kelimeler = [\"ali veli deli\", \"mehmet ağanın kuzeni\", \"cemilin-bacısı\"]"
   ]
  },
  {
   "cell_type": "code",
   "execution_count": 14,
   "id": "ed549e57",
   "metadata": {},
   "outputs": [
    {
     "data": {
      "text/plain": [
       "[13, 20, 14]"
      ]
     },
     "execution_count": 14,
     "metadata": {},
     "output_type": "execute_result"
    }
   ],
   "source": [
    "list(map(len, kelimeler))"
   ]
  },
  {
   "cell_type": "code",
   "execution_count": 15,
   "id": "c4c8eff2",
   "metadata": {},
   "outputs": [
    {
     "data": {
      "text/plain": [
       "[[' ', ' ', 'a', 'd', 'e', 'e', 'i', 'i', 'i', 'l', 'l', 'l', 'v'],\n",
       " [' ',\n",
       "  ' ',\n",
       "  'a',\n",
       "  'a',\n",
       "  'e',\n",
       "  'e',\n",
       "  'e',\n",
       "  'h',\n",
       "  'i',\n",
       "  'k',\n",
       "  'm',\n",
       "  'm',\n",
       "  'n',\n",
       "  'n',\n",
       "  'n',\n",
       "  't',\n",
       "  'u',\n",
       "  'z',\n",
       "  'ğ',\n",
       "  'ı'],\n",
       " ['-', 'a', 'b', 'c', 'c', 'e', 'i', 'i', 'l', 'm', 'n', 's', 'ı', 'ı']]"
      ]
     },
     "execution_count": 15,
     "metadata": {},
     "output_type": "execute_result"
    }
   ],
   "source": [
    "list(map(sorted, kelimeler))"
   ]
  },
  {
   "cell_type": "code",
   "execution_count": 16,
   "id": "dc8d306f",
   "metadata": {},
   "outputs": [],
   "source": [
    "words = [\"apple\", \"swim\", \"clock\", \"me\", \"kiwi\", \"banana\"]"
   ]
  },
  {
   "cell_type": "code",
   "execution_count": 19,
   "id": "7fb3abd7",
   "metadata": {},
   "outputs": [],
   "source": [
    "secim = list(filter (lambda x: len(x)<5,words))"
   ]
  },
  {
   "cell_type": "code",
   "execution_count": 20,
   "id": "879eed68",
   "metadata": {},
   "outputs": [
    {
     "name": "stdout",
     "output_type": "stream",
     "text": [
      "['swim', 'me', 'kiwi']\n"
     ]
    }
   ],
   "source": [
    "print(secim)"
   ]
  },
  {
   "cell_type": "code",
   "execution_count": 34,
   "id": "8b8c162f",
   "metadata": {},
   "outputs": [],
   "source": [
    "C = [\"right 20\", \"right 30\", \"left 50\", \"up 10\", \"down 20\"]"
   ]
  },
  {
   "cell_type": "code",
   "execution_count": 35,
   "id": "b2d9c353",
   "metadata": {},
   "outputs": [],
   "source": [
    "r,l,d,u = 0,0,0,0"
   ]
  },
  {
   "cell_type": "code",
   "execution_count": 36,
   "id": "4df45ab4",
   "metadata": {},
   "outputs": [],
   "source": [
    "konum = [(r-l),(u-d)]"
   ]
  },
  {
   "cell_type": "code",
   "execution_count": 37,
   "id": "7d402714",
   "metadata": {},
   "outputs": [
    {
     "name": "stdout",
     "output_type": "stream",
     "text": [
      "[0, 0]\n"
     ]
    }
   ],
   "source": [
    "print(konum)"
   ]
  },
  {
   "cell_type": "code",
   "execution_count": 33,
   "id": "3280c3d2",
   "metadata": {},
   "outputs": [],
   "source": [
    "#for i in iterable : ... önce öğeleri ayırmammız gerekiyor..\n"
   ]
  },
  {
   "cell_type": "code",
   "execution_count": 49,
   "id": "220fe0ff",
   "metadata": {},
   "outputs": [
    {
     "data": {
      "text/plain": [
       "[-10, 0]"
      ]
     },
     "execution_count": 49,
     "metadata": {},
     "output_type": "execute_result"
    }
   ],
   "source": [
    "x = y = 0\n",
    "for i in range(len(C)):\n",
    "    if C[i].startswith(\"r\") : x = x + int(C[i].split()[1])\n",
    "    elif C[i].startswith(\"l\") : x = x - int(C[i].split()[1])\n",
    "    elif C[i].startswith(\"u\") : x = x + int(C[i].split()[1])\n",
    "    elif C[i].startswith(\"d\") : x = x - int(C[i].split()[1])\n",
    "\n",
    "[x, y]"
   ]
  },
  {
   "cell_type": "code",
   "execution_count": null,
   "id": "3d2340fb",
   "metadata": {},
   "outputs": [],
   "source": []
  }
 ],
 "metadata": {
  "kernelspec": {
   "display_name": "Python 3",
   "language": "python",
   "name": "python3"
  },
  "language_info": {
   "codemirror_mode": {
    "name": "ipython",
    "version": 3
   },
   "file_extension": ".py",
   "mimetype": "text/x-python",
   "name": "python",
   "nbconvert_exporter": "python",
   "pygments_lexer": "ipython3",
   "version": "3.8.8"
  }
 },
 "nbformat": 4,
 "nbformat_minor": 5
}
