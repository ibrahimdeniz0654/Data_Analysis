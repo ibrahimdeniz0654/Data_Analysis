{
 "cells": [
  {
   "cell_type": "code",
   "execution_count": 2,
   "id": "fe7d7544",
   "metadata": {},
   "outputs": [
    {
     "data": {
      "text/plain": [
       "{'name1': 'ali', 'name2': 'veli', 'name3': 'feyyaz', 'name4': 'kemal'}"
      ]
     },
     "execution_count": 2,
     "metadata": {},
     "output_type": "execute_result"
    }
   ],
   "source": [
    "family = dict(name1 = \"ali\", name2 = \"veli\", name3 =\"feyyaz\", name4 = \"kemal\")\n",
    "family"
   ]
  },
  {
   "cell_type": "code",
   "execution_count": 3,
   "id": "8ea0a95b",
   "metadata": {},
   "outputs": [
    {
     "data": {
      "text/plain": [
       "{'tek': [], 'Çift': []}"
      ]
     },
     "execution_count": 3,
     "metadata": {},
     "output_type": "execute_result"
    }
   ],
   "source": [
    "sayılar = {\"tek\" : [], \"cift\" : []}\n",
    "sayılar"
   ]
  },
  {
   "cell_type": "code",
   "execution_count": 4,
   "id": "0cc1e713",
   "metadata": {},
   "outputs": [
    {
     "data": {
      "text/plain": [
       "{'tek': [1], 'Çift': []}"
      ]
     },
     "execution_count": 4,
     "metadata": {},
     "output_type": "execute_result"
    }
   ],
   "source": [
    "sayılar[\"tek\"].append(1)\n",
    "sayılar"
   ]
  },
  {
   "cell_type": "code",
   "execution_count": null,
   "id": "f469d56b",
   "metadata": {},
   "outputs": [],
   "source": [
    "sayılar[\"tek\"].append(3)"
   ]
  },
  {
   "cell_type": "code",
   "execution_count": null,
   "id": "82c9d922",
   "metadata": {},
   "outputs": [],
   "source": [
    "sayılar[\"cift\"].append(2)"
   ]
  },
  {
   "cell_type": "code",
   "execution_count": null,
   "id": "9fad8cd2",
   "metadata": {},
   "outputs": [],
   "source": [
    "sayılar[\"cift\"].append(4)"
   ]
  },
  {
   "cell_type": "code",
   "execution_count": 7,
   "id": "1a10618d",
   "metadata": {},
   "outputs": [
    {
     "data": {
      "text/plain": [
       "{'tek': [1], 'Çift': []}"
      ]
     },
     "execution_count": 7,
     "metadata": {},
     "output_type": "execute_result"
    }
   ],
   "source": [
    "sayılar"
   ]
  },
  {
   "cell_type": "code",
   "execution_count": 8,
   "id": "50c5929a",
   "metadata": {},
   "outputs": [],
   "source": [
    "school_records={\n",
    "\t'personal_info':\n",
    "\t\t{'kid':{'tom':{'class':'intermediate', 'age':10},\n",
    "\t\t\t'sue':{'class':'elemantary', 'age':8}\n",
    "\t\t\t},\n",
    "\t\t'teen':{'joseph':{'class':'college', 'age':19},\n",
    "\t\t\t'marry':{'class':'high school', 'age':16}\n",
    "\t\t\t},\n",
    "\t\t},\n",
    "\t'grades_info':\n",
    "\t\t{'kid':{'tom':{'math':88, 'speech':69},\n",
    "\t\t\t'sue':{'math':90, 'speech':81}\n",
    "\t\t\t},\n",
    "\t\t'teen':{'joseph':{'coding':80, 'math':89},\n",
    "\t\t\t'marry':{'coding':70, 'math':96}\n",
    "\t\t\t},\n",
    "\t\t}\n",
    "}"
   ]
  },
  {
   "cell_type": "code",
   "execution_count": null,
   "id": "b0f20e17",
   "metadata": {},
   "outputs": [],
   "source": [
    "samanlık = [\"yumurta\", \"saman\",\"inek\",\"iğne\",\"tavuk\",\"yaba\",\"eşarp\"]"
   ]
  },
  {
   "cell_type": "code",
   "execution_count": 17,
   "id": "f38101b6",
   "metadata": {},
   "outputs": [
    {
     "ename": "NameError",
     "evalue": "name 'samanlık' is not defined",
     "output_type": "error",
     "traceback": [
      "\u001b[1;31m---------------------------------------------------------------------------\u001b[0m",
      "\u001b[1;31mNameError\u001b[0m                                 Traceback (most recent call last)",
      "\u001b[1;32m<ipython-input-17-0175d3644417>\u001b[0m in \u001b[0;36m<module>\u001b[1;34m\u001b[0m\n\u001b[1;32m----> 1\u001b[1;33m \u001b[0mprint\u001b[0m \u001b[1;33m(\u001b[0m\u001b[1;34mf\" iğne {samanlık.index ('iğne')} numaralı indextedir.\"\u001b[0m\u001b[1;33m)\u001b[0m\u001b[1;33m\u001b[0m\u001b[1;33m\u001b[0m\u001b[0m\n\u001b[0m",
      "\u001b[1;31mNameError\u001b[0m: name 'samanlık' is not defined"
     ]
    }
   ],
   "source": [
    "print (f\" iğne {samanlık.index ('iğne')} numaralı indextedir.\")"
   ]
  },
  {
   "cell_type": "code",
   "execution_count": null,
   "id": "5a5c4701",
   "metadata": {},
   "outputs": [],
   "source": []
  }
 ],
 "metadata": {
  "kernelspec": {
   "display_name": "Python 3",
   "language": "python",
   "name": "python3"
  },
  "language_info": {
   "codemirror_mode": {
    "name": "ipython",
    "version": 3
   },
   "file_extension": ".py",
   "mimetype": "text/x-python",
   "name": "python",
   "nbconvert_exporter": "python",
   "pygments_lexer": "ipython3",
   "version": "3.8.8"
  }
 },
 "nbformat": 4,
 "nbformat_minor": 5
}
