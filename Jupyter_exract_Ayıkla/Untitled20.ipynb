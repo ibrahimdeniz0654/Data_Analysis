{
 "cells": [
  {
   "cell_type": "code",
   "execution_count": null,
   "id": "8e4f382e",
   "metadata": {},
   "outputs": [],
   "source": [
    "def san (x):\n",
    "    print (x + 1)\n",
    "    x = -2\n",
    "    x = 4\n",
    "    san (12)\n",
    "    "
   ]
  },
  {
   "cell_type": "code",
   "execution_count": null,
   "id": "6e982cee",
   "metadata": {},
   "outputs": [],
   "source": [
    "san (12)"
   ]
  },
  {
   "cell_type": "code",
   "execution_count": null,
   "id": "ec7f3d7a",
   "metadata": {},
   "outputs": [],
   "source": []
  }
 ],
 "metadata": {
  "kernelspec": {
   "display_name": "Python 3",
   "language": "python",
   "name": "python3"
  },
  "language_info": {
   "codemirror_mode": {
    "name": "ipython",
    "version": 3
   },
   "file_extension": ".py",
   "mimetype": "text/x-python",
   "name": "python",
   "nbconvert_exporter": "python",
   "pygments_lexer": "ipython3",
   "version": "3.8.8"
  }
 },
 "nbformat": 4,
 "nbformat_minor": 5
}
