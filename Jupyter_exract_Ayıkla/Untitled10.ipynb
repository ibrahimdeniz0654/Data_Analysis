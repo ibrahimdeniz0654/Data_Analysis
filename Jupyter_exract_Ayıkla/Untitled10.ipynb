{
 "cells": [
  {
   "cell_type": "code",
   "execution_count": 7,
   "id": "3d068535",
   "metadata": {},
   "outputs": [
    {
     "name": "stdout",
     "output_type": "stream",
     "text": [
      "What is your name?:ibrahim Deniz\n",
      " My name's  ibrahim Deniz\n"
     ]
    }
   ],
   "source": [
    "name = input(\"What is your name?:\")\n",
    "print(\" My name's \", name)\n",
    "\n",
    "    "
   ]
  },
  {
   "cell_type": "code",
   "execution_count": 8,
   "id": "8bf2340c",
   "metadata": {},
   "outputs": [
    {
     "name": "stdout",
     "output_type": "stream",
     "text": [
      "Where are you from ? : Ankara\n",
      " I'm from   in  Ankara\n"
     ]
    }
   ],
   "source": [
    "city = input(\"Where are you from ? : \")\n",
    "\n",
    "print( \" I'm from \",\" in \", city)\n"
   ]
  },
  {
   "cell_type": "code",
   "execution_count": 9,
   "id": "556deeb7",
   "metadata": {},
   "outputs": [
    {
     "name": "stdout",
     "output_type": "stream",
     "text": [
      "I am an informatics student at Clarusway\n"
     ]
    }
   ],
   "source": [
    "print(\"I am an informatics student at Clarusway\")"
   ]
  },
  {
   "cell_type": "code",
   "execution_count": 10,
   "id": "eeb042b7",
   "metadata": {},
   "outputs": [
    {
     "name": "stdout",
     "output_type": "stream",
     "text": [
      "I am goint to Taksim\n"
     ]
    }
   ],
   "source": [
    "print(\"I am goint to Taksim\")"
   ]
  },
  {
   "cell_type": "code",
   "execution_count": null,
   "id": "9c31f689",
   "metadata": {},
   "outputs": [],
   "source": []
  }
 ],
 "metadata": {
  "kernelspec": {
   "display_name": "Python 3",
   "language": "python",
   "name": "python3"
  },
  "language_info": {
   "codemirror_mode": {
    "name": "ipython",
    "version": 3
   },
   "file_extension": ".py",
   "mimetype": "text/x-python",
   "name": "python",
   "nbconvert_exporter": "python",
   "pygments_lexer": "ipython3",
   "version": "3.8.8"
  }
 },
 "nbformat": 4,
 "nbformat_minor": 5
}
