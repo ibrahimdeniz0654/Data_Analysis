{
 "cells": [
  {
   "cell_type": "code",
   "execution_count": 11,
   "id": "e09642df",
   "metadata": {},
   "outputs": [
    {
     "name": "stdout",
     "output_type": "stream",
     "text": [
      "Please Enter a name : hasan\n",
      "Hello, hasan See you later\n"
     ]
    }
   ],
   "source": [
    "password = \"kalabari54\"\n",
    "name = \"ibrahim\"\n",
    "\n",
    "namecheck = input(\"Please Enter a name : \")\n",
    "\n",
    "if namecheck == name :\n",
    "    print(\"Hello \", namecheck, \",\",\" Your Password : \", password )\n",
    "    \n",
    "else : \n",
    "    print(\"Hello\" \",\", namecheck, \"See you later\")\n",
    "\n",
    "    \n"
   ]
  },
  {
   "cell_type": "code",
   "execution_count": null,
   "id": "f7c39072",
   "metadata": {},
   "outputs": [],
   "source": []
  },
  {
   "cell_type": "code",
   "execution_count": null,
   "id": "e0e4c1ca",
   "metadata": {},
   "outputs": [],
   "source": []
  },
  {
   "cell_type": "code",
   "execution_count": null,
   "id": "3f831d2d",
   "metadata": {},
   "outputs": [],
   "source": []
  }
 ],
 "metadata": {
  "kernelspec": {
   "display_name": "Python 3",
   "language": "python",
   "name": "python3"
  },
  "language_info": {
   "codemirror_mode": {
    "name": "ipython",
    "version": 3
   },
   "file_extension": ".py",
   "mimetype": "text/x-python",
   "name": "python",
   "nbconvert_exporter": "python",
   "pygments_lexer": "ipython3",
   "version": "3.8.8"
  }
 },
 "nbformat": 4,
 "nbformat_minor": 5
}
