{
 "cells": [
  {
   "cell_type": "code",
   "execution_count": 2,
   "id": "b7b0b1fb",
   "metadata": {},
   "outputs": [],
   "source": [
    "x = [\"1\", \"2\",\"3\"]\n",
    "y = [\"USA\", \"Japan\", \"Spain\"]\n",
    "\n",
    "result = []\n",
    "for i in y :\n",
    "    for j  in x:\n",
    "        result.append(i+j)"
   ]
  },
  {
   "cell_type": "code",
   "execution_count": 3,
   "id": "67e05149",
   "metadata": {},
   "outputs": [
    {
     "data": {
      "text/plain": [
       "['USA1',\n",
       " 'USA2',\n",
       " 'USA3',\n",
       " 'Japan1',\n",
       " 'Japan2',\n",
       " 'Japan3',\n",
       " 'Spain1',\n",
       " 'Spain2',\n",
       " 'Spain3']"
      ]
     },
     "execution_count": 3,
     "metadata": {},
     "output_type": "execute_result"
    }
   ],
   "source": [
    "result"
   ]
  },
  {
   "cell_type": "code",
   "execution_count": 5,
   "id": "3eea2644",
   "metadata": {},
   "outputs": [
    {
     "data": {
      "text/plain": [
       "['USA1',\n",
       " 'USA2',\n",
       " 'USA3',\n",
       " 'Japan1',\n",
       " 'Japan2',\n",
       " 'Japan3',\n",
       " 'Spain1',\n",
       " 'Spain2',\n",
       " 'Spain3']"
      ]
     },
     "execution_count": 5,
     "metadata": {},
     "output_type": "execute_result"
    }
   ],
   "source": [
    "[i+j for i in y for j in x]"
   ]
  },
  {
   "cell_type": "code",
   "execution_count": null,
   "id": "5b0d0233",
   "metadata": {},
   "outputs": [],
   "source": []
  }
 ],
 "metadata": {
  "kernelspec": {
   "display_name": "Python 3",
   "language": "python",
   "name": "python3"
  },
  "language_info": {
   "codemirror_mode": {
    "name": "ipython",
    "version": 3
   },
   "file_extension": ".py",
   "mimetype": "text/x-python",
   "name": "python",
   "nbconvert_exporter": "python",
   "pygments_lexer": "ipython3",
   "version": "3.8.8"
  }
 },
 "nbformat": 4,
 "nbformat_minor": 5
}
