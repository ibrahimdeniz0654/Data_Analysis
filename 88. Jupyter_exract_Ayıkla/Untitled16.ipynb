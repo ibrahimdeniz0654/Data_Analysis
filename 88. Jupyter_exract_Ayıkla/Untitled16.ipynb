{
 "cells": [
  {
   "cell_type": "code",
   "execution_count": 5,
   "id": "a59d8058",
   "metadata": {},
   "outputs": [
    {
     "ename": "IndentationError",
     "evalue": "unexpected indent (<ipython-input-5-96b40601021c>, line 5)",
     "output_type": "error",
     "traceback": [
      "\u001b[1;36m  File \u001b[1;32m\"<ipython-input-5-96b40601021c>\"\u001b[1;36m, line \u001b[1;32m5\u001b[0m\n\u001b[1;33m    print('Changed local x to', x)\u001b[0m\n\u001b[1;37m    ^\u001b[0m\n\u001b[1;31mIndentationError\u001b[0m\u001b[1;31m:\u001b[0m unexpected indent\n"
     ]
    }
   ],
   "source": [
    "x = 50\n",
    "def func(x):\n",
    " print('x is', x)\n",
    "x = 2\n",
    " print('Changed local x to', x)\n",
    "x = 3\n",
    "func(x)\n",
    "print('x is now', x)\n",
    " \n"
   ]
  },
  {
   "cell_type": "code",
   "execution_count": null,
   "id": "363a1b3d",
   "metadata": {},
   "outputs": [],
   "source": [
    "print(a, 'is maximum')\n",
    " elif a == b:\n",
    " print(a, 'is equal to', b)\n",
    " else:\n",
    " print(b, 'is maximum')\n",
    "printMax(3, 4)"
   ]
  }
 ],
 "metadata": {
  "kernelspec": {
   "display_name": "Python 3",
   "language": "python",
   "name": "python3"
  },
  "language_info": {
   "codemirror_mode": {
    "name": "ipython",
    "version": 3
   },
   "file_extension": ".py",
   "mimetype": "text/x-python",
   "name": "python",
   "nbconvert_exporter": "python",
   "pygments_lexer": "ipython3",
   "version": "3.8.8"
  }
 },
 "nbformat": 4,
 "nbformat_minor": 5
}
