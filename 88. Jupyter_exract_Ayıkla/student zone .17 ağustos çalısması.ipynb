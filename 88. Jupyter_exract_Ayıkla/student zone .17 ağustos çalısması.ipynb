{
 "cells": [
  {
   "cell_type": "code",
   "execution_count": 4,
   "id": "a8868b98",
   "metadata": {},
   "outputs": [
    {
     "name": "stdout",
     "output_type": "stream",
     "text": [
      "Bir şeyler yazınız:Clarusway mini botcamp\n"
     ]
    }
   ],
   "source": [
    "string = input(\"Bir şeyler yazınız:\")"
   ]
  },
  {
   "cell_type": "code",
   "execution_count": 6,
   "id": "8add8cbc",
   "metadata": {},
   "outputs": [
    {
     "data": {
      "text/plain": [
       "'Clarusway mini botcamp'"
      ]
     },
     "execution_count": 6,
     "metadata": {},
     "output_type": "execute_result"
    }
   ],
   "source": [
    "string"
   ]
  },
  {
   "cell_type": "code",
   "execution_count": 7,
   "id": "7ae07502",
   "metadata": {},
   "outputs": [
    {
     "ename": "NameError",
     "evalue": "name 'vowels' is not defined",
     "output_type": "error",
     "traceback": [
      "\u001b[1;31m---------------------------------------------------------------------------\u001b[0m",
      "\u001b[1;31mNameError\u001b[0m                                 Traceback (most recent call last)",
      "\u001b[1;32m<ipython-input-7-88c8be3c961a>\u001b[0m in \u001b[0;36m<module>\u001b[1;34m\u001b[0m\n\u001b[0;32m      2\u001b[0m \u001b[0mfound\u001b[0m \u001b[1;33m=\u001b[0m \u001b[1;33m[\u001b[0m\u001b[1;33m]\u001b[0m\u001b[1;33m\u001b[0m\u001b[1;33m\u001b[0m\u001b[0m\n\u001b[0;32m      3\u001b[0m \u001b[1;32mfor\u001b[0m \u001b[0mletter\u001b[0m \u001b[1;32min\u001b[0m \u001b[0mstring\u001b[0m\u001b[1;33m:\u001b[0m\u001b[1;33m\u001b[0m\u001b[1;33m\u001b[0m\u001b[0m\n\u001b[1;32m----> 4\u001b[1;33m     \u001b[1;32mif\u001b[0m \u001b[0mletter\u001b[0m \u001b[1;32min\u001b[0m \u001b[0mvowels\u001b[0m\u001b[1;33m:\u001b[0m\u001b[1;33m\u001b[0m\u001b[1;33m\u001b[0m\u001b[0m\n\u001b[0m\u001b[0;32m      5\u001b[0m         \u001b[1;32mif\u001b[0m \u001b[0mletter\u001b[0m \u001b[1;32mnot\u001b[0m \u001b[1;32min\u001b[0m \u001b[0mfound\u001b[0m\u001b[1;33m:\u001b[0m\u001b[1;33m\u001b[0m\u001b[1;33m\u001b[0m\u001b[0m\n\u001b[0;32m      6\u001b[0m             \u001b[0mfound\u001b[0m\u001b[1;33m.\u001b[0m\u001b[0mappend\u001b[0m\u001b[1;33m(\u001b[0m\u001b[0mletter\u001b[0m\u001b[1;33m)\u001b[0m\u001b[1;33m\u001b[0m\u001b[1;33m\u001b[0m\u001b[0m\n",
      "\u001b[1;31mNameError\u001b[0m: name 'vowels' is not defined"
     ]
    }
   ],
   "source": [
    "https://www.linkedin.com/in/ibrahim-deniz-8a996a5b/"
   ]
  },
  {
   "cell_type": "code",
   "execution_count": 8,
   "id": "29a1debf",
   "metadata": {},
   "outputs": [
    {
     "data": {
      "text/plain": [
       "set()"
      ]
     },
     "execution_count": 8,
     "metadata": {},
     "output_type": "execute_result"
    }
   ],
   "source": [
    "set(found)"
   ]
  },
  {
   "cell_type": "code",
   "execution_count": 9,
   "id": "eb6ab490",
   "metadata": {},
   "outputs": [],
   "source": [
    "number = []"
   ]
  },
  {
   "cell_type": "code",
   "execution_count": 20,
   "id": "23435277",
   "metadata": {},
   "outputs": [],
   "source": [
    "numbers1 = []\n",
    "for i in range(100, 501):\n",
    "    if i%7 == 0:\n",
    "        if i%3 == 0:\n",
    "            numbers1.append(i)"
   ]
  },
  {
   "cell_type": "code",
   "execution_count": null,
   "id": "7fca156d",
   "metadata": {},
   "outputs": [],
   "source": []
  },
  {
   "cell_type": "code",
   "execution_count": 16,
   "id": "a8153630",
   "metadata": {},
   "outputs": [],
   "source": [
    "numbers2 = []\n",
    "for i in range(100, 501):\n",
    "    if (i%21) == 0:\n",
    "        numbers2.append(i)"
   ]
  },
  {
   "cell_type": "code",
   "execution_count": 28,
   "id": "8c19c39f",
   "metadata": {},
   "outputs": [],
   "source": [
    "numbers3 = []\n",
    "for i in range (100, 501):\n",
    "    if i%21 == 0:\n",
    "        numbers3.append(i)"
   ]
  },
  {
   "cell_type": "code",
   "execution_count": 22,
   "id": "73d18503",
   "metadata": {},
   "outputs": [
    {
     "data": {
      "text/plain": [
       "True"
      ]
     },
     "execution_count": 22,
     "metadata": {},
     "output_type": "execute_result"
    }
   ],
   "source": [
    "numbers1 == numbers2 == numbers3"
   ]
  },
  {
   "cell_type": "code",
   "execution_count": 24,
   "id": "f0e57ffe",
   "metadata": {},
   "outputs": [
    {
     "name": "stdout",
     "output_type": "stream",
     "text": [
      "bir yazı giriniz:Clarusway has 500+ students and 4 paths.\n"
     ]
    }
   ],
   "source": [
    "string = input(\"bir yazı giriniz:\")\n",
    "digits = 0\n",
    "letters =0"
   ]
  },
  {
   "cell_type": "code",
   "execution_count": 26,
   "id": "586ac55a",
   "metadata": {},
   "outputs": [
    {
     "data": {
      "text/plain": [
       "'Clarusway has 500+ students and 4 paths.'"
      ]
     },
     "execution_count": 26,
     "metadata": {},
     "output_type": "execute_result"
    }
   ],
   "source": [
    "string"
   ]
  },
  {
   "cell_type": "code",
   "execution_count": 27,
   "id": "64b78bd1",
   "metadata": {},
   "outputs": [],
   "source": [
    "for i in string :\n",
    "    if i.isdigit():\n",
    "        digits += 1"
   ]
  },
  {
   "cell_type": "code",
   "execution_count": 29,
   "id": "e8643d53",
   "metadata": {},
   "outputs": [
    {
     "data": {
      "text/plain": [
       "4"
      ]
     },
     "execution_count": 29,
     "metadata": {},
     "output_type": "execute_result"
    }
   ],
   "source": [
    "digits"
   ]
  },
  {
   "cell_type": "code",
   "execution_count": 39,
   "id": "d10dea25",
   "metadata": {},
   "outputs": [],
   "source": [
    "digits = 0\n",
    "letters = 0\n",
    "for i in string:\n",
    "    if i.isdigit():\n",
    "        digits += 1\n",
    "    elif i.isalpha():\n",
    "        letters += 1"
   ]
  },
  {
   "cell_type": "code",
   "execution_count": 40,
   "id": "0ffb95e8",
   "metadata": {},
   "outputs": [
    {
     "name": "stdout",
     "output_type": "stream",
     "text": [
      "28\n",
      "4\n"
     ]
    }
   ],
   "source": [
    "print(letters)\n",
    "print(digits)"
   ]
  },
  {
   "cell_type": "code",
   "execution_count": 45,
   "id": "294c54f7",
   "metadata": {},
   "outputs": [
    {
     "name": "stdout",
     "output_type": "stream",
     "text": [
      "Enter a number to calculate its square root: 36\n",
      "How many iterations?:10\n"
     ]
    }
   ],
   "source": [
    "x = int(input(\"Enter a number to calculate its square root: \"))\n",
    "iteration = int(input(\"How many iterations?:\"))"
   ]
  },
  {
   "cell_type": "code",
   "execution_count": 46,
   "id": "a4c5862d",
   "metadata": {},
   "outputs": [],
   "source": [
    "r = x\n",
    "for i in range(iteration):\n",
    "    r = (r + x/r)/2\n",
    "    "
   ]
  },
  {
   "cell_type": "code",
   "execution_count": 47,
   "id": "f07e1b86",
   "metadata": {},
   "outputs": [
    {
     "name": "stdout",
     "output_type": "stream",
     "text": [
      "6.0\n"
     ]
    }
   ],
   "source": [
    "print (r)"
   ]
  },
  {
   "cell_type": "code",
   "execution_count": null,
   "id": "7f1870fd",
   "metadata": {},
   "outputs": [],
   "source": [
    "vowels = ['a', 'e', 'i', 'o', 'u']\n",
    "\n",
    "string = input(\"Provide a string to remove vovels:\").lower()"
   ]
  },
  {
   "cell_type": "code",
   "execution_count": null,
   "id": "472d2d9a",
   "metadata": {},
   "outputs": [],
   "source": [
    "for i in string:\n",
    "    if i.lower() in vowels:\n",
    "        string = string.replace(i, \"\")"
   ]
  },
  {
   "cell_type": "code",
   "execution_count": 67,
   "id": "0bfd5ec8",
   "metadata": {},
   "outputs": [
    {
     "name": "stdout",
     "output_type": "stream",
     "text": [
      "ntd Stts f mrc\n"
     ]
    }
   ],
   "source": [
    "print(string)"
   ]
  },
  {
   "cell_type": "code",
   "execution_count": null,
   "id": "fc87a7a4",
   "metadata": {},
   "outputs": [],
   "source": [
    "#Python: Bir Yazı İçerisindeki Tüm Harflerin Küçük Harf Olup Olmadığını Test Etmek\n",
    "#Online eğitimler için: https://www.excelsizeyeter.com/excelsizeyeter.com/udemy_giris.php adresine tıklayınız.\n",
    "kelime=\"selam\"\n",
    "print(kelime.islower())"
   ]
  },
  {
   "cell_type": "code",
   "execution_count": null,
   "id": "9bf8fcbf",
   "metadata": {},
   "outputs": [],
   "source": []
  }
 ],
 "metadata": {
  "kernelspec": {
   "display_name": "Python 3",
   "language": "python",
   "name": "python3"
  },
  "language_info": {
   "codemirror_mode": {
    "name": "ipython",
    "version": 3
   },
   "file_extension": ".py",
   "mimetype": "text/x-python",
   "name": "python",
   "nbconvert_exporter": "python",
   "pygments_lexer": "ipython3",
   "version": "3.8.8"
  }
 },
 "nbformat": 4,
 "nbformat_minor": 5
}
