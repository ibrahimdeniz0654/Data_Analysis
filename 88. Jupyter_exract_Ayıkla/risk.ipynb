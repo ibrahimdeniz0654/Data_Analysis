{
 "cells": [
  {
   "cell_type": "code",
   "execution_count": 10,
   "id": "7300825b",
   "metadata": {},
   "outputs": [
    {
     "name": "stdout",
     "output_type": "stream",
     "text": [
      "Are you a cigarette addict older than 75 years old? (Yes Or No): yes\n",
      "Do you have a severe chronic disease?(Yes Or No): no\n",
      "Is your immune system too weak?(Yes Or No): no\n",
      "a\n"
     ]
    }
   ],
   "source": [
    "\n",
    "age = input(\"Are you a cigarette addict older than 75 years old? (Yes Or No): \" ).capitalize()\n",
    "\n",
    "chronic = input(\"Do you have a severe chronic disease?(Yes Or No): \" ).capitalize()\n",
    "\n",
    "immune = input(\"Is your immune system too weak?(Yes Or No): \" ).capitalize()\n",
    "\n",
    "risk = (age == \"Yes\") or (chronic == \"Yes\") or (immune == \"Yes\")\n",
    "\n",
    "if risk : \n",
    "    print(\"You are in risky group\")\n",
    "    \n",
    "else : \n",
    "    print(\"You are not in risky group\")\n",
    "    \n"
   ]
  },
  {
   "cell_type": "code",
   "execution_count": null,
   "id": "8ab79e7e",
   "metadata": {},
   "outputs": [],
   "source": [
    "yes"
   ]
  },
  {
   "cell_type": "code",
   "execution_count": null,
   "id": "c91f9411",
   "metadata": {},
   "outputs": [],
   "source": []
  },
  {
   "cell_type": "code",
   "execution_count": null,
   "id": "eea97d47",
   "metadata": {},
   "outputs": [],
   "source": []
  }
 ],
 "metadata": {
  "kernelspec": {
   "display_name": "Python 3",
   "language": "python",
   "name": "python3"
  },
  "language_info": {
   "codemirror_mode": {
    "name": "ipython",
    "version": 3
   },
   "file_extension": ".py",
   "mimetype": "text/x-python",
   "name": "python",
   "nbconvert_exporter": "python",
   "pygments_lexer": "ipython3",
   "version": "3.8.8"
  }
 },
 "nbformat": 4,
 "nbformat_minor": 5
}
