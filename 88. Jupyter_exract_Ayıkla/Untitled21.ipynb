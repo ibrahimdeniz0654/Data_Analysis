{
 "cells": [
  {
   "cell_type": "code",
   "execution_count": 2,
   "id": "653c71b1",
   "metadata": {},
   "outputs": [],
   "source": [
    "word = {1 : \"1\", 2 : \"2\"}"
   ]
  },
  {
   "cell_type": "code",
   "execution_count": 3,
   "id": "ee9d3098",
   "metadata": {},
   "outputs": [],
   "source": [
    "keys = word.keys()"
   ]
  },
  {
   "cell_type": "code",
   "execution_count": 4,
   "id": "cac0b297",
   "metadata": {},
   "outputs": [
    {
     "data": {
      "text/plain": [
       "dict_keys([1, 2])"
      ]
     },
     "execution_count": 4,
     "metadata": {},
     "output_type": "execute_result"
    }
   ],
   "source": [
    "keys"
   ]
  },
  {
   "cell_type": "code",
   "execution_count": 5,
   "id": "c6ed25f1",
   "metadata": {},
   "outputs": [],
   "source": [
    "word_1 ={}"
   ]
  },
  {
   "cell_type": "code",
   "execution_count": 6,
   "id": "a269b5b4",
   "metadata": {},
   "outputs": [],
   "source": [
    "word_1[3] = 1"
   ]
  },
  {
   "cell_type": "code",
   "execution_count": 7,
   "id": "8fba33ed",
   "metadata": {},
   "outputs": [],
   "source": [
    "word_1[1] = 1"
   ]
  },
  {
   "cell_type": "code",
   "execution_count": 8,
   "id": "6dc9f9b2",
   "metadata": {},
   "outputs": [
    {
     "data": {
      "text/plain": [
       "{3: 1, 1: 1}"
      ]
     },
     "execution_count": 8,
     "metadata": {},
     "output_type": "execute_result"
    }
   ],
   "source": [
    "word_1"
   ]
  },
  {
   "cell_type": "code",
   "execution_count": 22,
   "id": "24790dce",
   "metadata": {},
   "outputs": [],
   "source": [
    "word_1[\"ali\"] = 22"
   ]
  },
  {
   "cell_type": "code",
   "execution_count": 23,
   "id": "f258f6a4",
   "metadata": {},
   "outputs": [
    {
     "data": {
      "text/plain": [
       "{3: 6, 1: 1, 'ali': 22}"
      ]
     },
     "execution_count": 23,
     "metadata": {},
     "output_type": "execute_result"
    }
   ],
   "source": [
    "word_1"
   ]
  },
  {
   "cell_type": "code",
   "execution_count": 24,
   "id": "c681a411",
   "metadata": {},
   "outputs": [
    {
     "data": {
      "text/plain": [
       "True"
      ]
     },
     "execution_count": 24,
     "metadata": {},
     "output_type": "execute_result"
    }
   ],
   "source": [
    "\"ali\" in word_1"
   ]
  },
  {
   "cell_type": "code",
   "execution_count": 29,
   "id": "dcd8aa63",
   "metadata": {},
   "outputs": [],
   "source": [
    "string = \"bugün ayrılıktan bir önceki session..\""
   ]
  },
  {
   "cell_type": "code",
   "execution_count": 20,
   "id": "4cdc1c90",
   "metadata": {},
   "outputs": [],
   "source": [
    "word_dict = {}"
   ]
  },
  {
   "cell_type": "code",
   "execution_count": 37,
   "id": "39ad179a",
   "metadata": {},
   "outputs": [],
   "source": [
    "for n in string :    \n",
    "    \n",
    "    keys = word_dict.keys()\n",
    "    \n",
    "    if n in word_dict :\n",
    "    \n",
    "        word_dict[n] += 1\n",
    "    else : \n",
    "        word_dict[n] = 1"
   ]
  },
  {
   "cell_type": "code",
   "execution_count": 38,
   "id": "6c07ce78",
   "metadata": {},
   "outputs": [
    {
     "name": "stdout",
     "output_type": "stream",
     "text": [
      "8\n"
     ]
    }
   ],
   "source": [
    "print(word_dict[n])"
   ]
  },
  {
   "cell_type": "code",
   "execution_count": 39,
   "id": "1c5aa0b0",
   "metadata": {},
   "outputs": [
    {
     "name": "stdout",
     "output_type": "stream",
     "text": [
      "{'b': 2, 'u': 2, 'g': 1, 'n': 4, ' ': 4, 'a': 2, 'y': 1, 'r': 2, 'i': 5, 'l': 1, 'k': 2, 't': 1, 'o': 2, 'c': 1, 'e': 2, 's': 3, '.': 2}\n"
     ]
    }
   ],
   "source": [
    "string = 'bugun ayriliktan bir onceki session..'\n",
    "sozluk = {}\n",
    "for i in string:\n",
    "    sozluk[i] = sozluk.get(i, 0) + 1\n",
    "print(sozluk)"
   ]
  },
  {
   "cell_type": "code",
   "execution_count": 42,
   "id": "40c21436",
   "metadata": {},
   "outputs": [
    {
     "name": "stdout",
     "output_type": "stream",
     "text": [
      "325\n",
      "5\n"
     ]
    }
   ],
   "source": [
    "def obeb(a,b):\n",
    "    if b==0:\n",
    "        return a\n",
    "    else:\n",
    "        return obeb(b,a%b)\n",
    "def okek(a,b):\n",
    "    return int(a*b / obeb(a,b))\n",
    "print(okek(65,25))\n",
    "print(obeb(65,25))"
   ]
  },
  {
   "cell_type": "code",
   "execution_count": 46,
   "id": "ff01dcac",
   "metadata": {},
   "outputs": [
    {
     "ename": "IndentationError",
     "evalue": "unindent does not match any outer indentation level (<tokenize>, line 5)",
     "output_type": "error",
     "traceback": [
      "\u001b[1;36m  File \u001b[1;32m\"<tokenize>\"\u001b[1;36m, line \u001b[1;32m5\u001b[0m\n\u001b[1;33m    else:\u001b[0m\n\u001b[1;37m    ^\u001b[0m\n\u001b[1;31mIndentationError\u001b[0m\u001b[1;31m:\u001b[0m unindent does not match any outer indentation level\n"
     ]
    }
   ],
   "source": [
    "def faktoriyelHesapla(i):\n",
    "        if i==1:       \n",
    "        return 1\n",
    "    \n",
    "    else: \n",
    "        return i * faktoriyelHesapla(i-1)\n",
    "    \n",
    "def kombinasyonHesapla(j,k):\n",
    "    \n",
    "    if (j&lt;k):\n",
    "        print(\"1. Sayının 2. Sayıdan büyük yada eşit olması gerekli. Verdiğiniz sayıların çözümü yoktur!\")\n",
    "   \n",
    "    elif(j==k):\n",
    "        print(\"1\")\n",
    "    \n",
    "    elif(j>k):\n",
    "        \n",
    "        s=1\n",
    "        s= faktoriyelHesapla(j) #n faktöriyel\n",
    "        \n",
    "        l=1\n",
    "        l= faktoriyelHesapla(k) #m faktöriyel\n",
    "        \n",
    "        f=1\n",
    "        f= faktoriyelHesapla(j-k) #n-m faktöriyel\n",
    "        \n",
    "        w=s/(l*f)\n",
    "        return w\n",
    "    \n",
    "    print(\"Kombinasyon hesabı için lütfen sayıları giriniz.\")   \n",
    " \n",
    "sayi1 = int(input(\"1. Sayı Giriniz: \"))\n",
    " \n",
    "sayi2 = int(input(\"2. Sayı Giriniz: \")) \n",
    " \n",
    "print(\"\\nSonuç:\",kombinasyonHesapla(sayi1,sayi2) )"
   ]
  },
  {
   "cell_type": "code",
   "execution_count": null,
   "id": "c5efe221",
   "metadata": {},
   "outputs": [],
   "source": []
  }
 ],
 "metadata": {
  "kernelspec": {
   "display_name": "Python 3",
   "language": "python",
   "name": "python3"
  },
  "language_info": {
   "codemirror_mode": {
    "name": "ipython",
    "version": 3
   },
   "file_extension": ".py",
   "mimetype": "text/x-python",
   "name": "python",
   "nbconvert_exporter": "python",
   "pygments_lexer": "ipython3",
   "version": "3.8.8"
  }
 },
 "nbformat": 4,
 "nbformat_minor": 5
}
