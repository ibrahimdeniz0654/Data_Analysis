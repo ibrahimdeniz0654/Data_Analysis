{
 "cells": [
  {
   "cell_type": "code",
   "execution_count": 1,
   "id": "88cddfe3",
   "metadata": {},
   "outputs": [],
   "source": [
    "set_1 = {\"red\", \"blue\", \"pink\", \"red\"}"
   ]
  },
  {
   "cell_type": "code",
   "execution_count": 2,
   "id": "d5e35f20",
   "metadata": {},
   "outputs": [],
   "source": [
    "colors=\"red\", \"blue\", \"pink\", \"red\""
   ]
  },
  {
   "cell_type": "code",
   "execution_count": 3,
   "id": "ab8b07d0",
   "metadata": {},
   "outputs": [],
   "source": [
    "set_2 = set(colors)"
   ]
  },
  {
   "cell_type": "code",
   "execution_count": 4,
   "id": "7f2e12f8",
   "metadata": {},
   "outputs": [
    {
     "name": "stdout",
     "output_type": "stream",
     "text": [
      "{'blue', 'red', 'pink'}\n"
     ]
    }
   ],
   "source": [
    "print(set_1)"
   ]
  },
  {
   "cell_type": "code",
   "execution_count": 5,
   "id": "c615ad36",
   "metadata": {},
   "outputs": [
    {
     "name": "stdout",
     "output_type": "stream",
     "text": [
      "{'blue', 'red', 'pink'}\n"
     ]
    }
   ],
   "source": [
    "print(set_2)"
   ]
  },
  {
   "cell_type": "code",
   "execution_count": 6,
   "id": "f7d60417",
   "metadata": {},
   "outputs": [],
   "source": [
    "letter = \"a b c d e f g h i j l k m n o p q r s t x w v z\".split()"
   ]
  },
  {
   "cell_type": "code",
   "execution_count": 8,
   "id": "385a7556",
   "metadata": {},
   "outputs": [
    {
     "name": "stdout",
     "output_type": "stream",
     "text": [
      "['a', 'b', 'c', 'd', 'e', 'f', 'g', 'h', 'i', 'j', 'l', 'k', 'm', 'n', 'o', 'p', 'q', 'r', 's', 't', 'x', 'w', 'v', 'z']\n"
     ]
    }
   ],
   "source": [
    "print(letter)"
   ]
  },
  {
   "cell_type": "code",
   "execution_count": 13,
   "id": "b61e27bc",
   "metadata": {},
   "outputs": [
    {
     "name": "stdout",
     "output_type": "stream",
     "text": [
      "{'l', 'q', 'd', 'v', 'o', 't', 'j', 'a', 'w', 'p', 'z', 'k', 'c', 'x', 'i', 'g', 'b', 'r', 'e', 'f', 'n', 'h', 'm', 's'}\n"
     ]
    }
   ],
   "source": [
    "print(set(letter)) #burada sıralamanın belli bir algoritması yok burada l den başlamış."
   ]
  },
  {
   "cell_type": "code",
   "execution_count": 14,
   "id": "810f66bc",
   "metadata": {},
   "outputs": [],
   "source": [
    "test = {1, \"bir\", 1.0}"
   ]
  },
  {
   "cell_type": "code",
   "execution_count": 11,
   "id": "6579cb45",
   "metadata": {},
   "outputs": [
    {
     "data": {
      "text/plain": [
       "2"
      ]
     },
     "execution_count": 11,
     "metadata": {},
     "output_type": "execute_result"
    }
   ],
   "source": [
    "len(test)"
   ]
  },
  {
   "cell_type": "code",
   "execution_count": 12,
   "id": "46c15c5b",
   "metadata": {},
   "outputs": [
    {
     "data": {
      "text/plain": [
       "True"
      ]
     },
     "execution_count": 12,
     "metadata": {},
     "output_type": "execute_result"
    }
   ],
   "source": [
    "1 == 1.0"
   ]
  },
  {
   "cell_type": "code",
   "execution_count": 20,
   "id": "6c2e3baf",
   "metadata": {},
   "outputs": [
    {
     "ename": "NameError",
     "evalue": "name 'typ' is not defined",
     "output_type": "error",
     "traceback": [
      "\u001b[1;31m---------------------------------------------------------------------------\u001b[0m",
      "\u001b[1;31mNameError\u001b[0m                                 Traceback (most recent call last)",
      "\u001b[1;32m<ipython-input-20-9f9e96ff58f2>\u001b[0m in \u001b[0;36m<module>\u001b[1;34m\u001b[0m\n\u001b[1;32m----> 1\u001b[1;33m \u001b[0mtyp\u001b[0m\u001b[1;33m(\u001b[0m\u001b[1;33m{\u001b[0m\u001b[1;33m}\u001b[0m\u001b[1;33m)\u001b[0m\u001b[1;33m\u001b[0m\u001b[1;33m\u001b[0m\u001b[0m\n\u001b[0m",
      "\u001b[1;31mNameError\u001b[0m: name 'typ' is not defined"
     ]
    }
   ],
   "source": [
    "typ({})"
   ]
  },
  {
   "cell_type": "code",
   "execution_count": 22,
   "id": "17461859",
   "metadata": {},
   "outputs": [],
   "source": [
    "a = set(\"philadelphia\")\n"
   ]
  },
  {
   "cell_type": "code",
   "execution_count": 24,
   "id": "7b6f5fe9",
   "metadata": {},
   "outputs": [],
   "source": [
    "b = set(\"dolphin\")"
   ]
  },
  {
   "cell_type": "code",
   "execution_count": 25,
   "id": "adcf98bd",
   "metadata": {},
   "outputs": [
    {
     "name": "stdout",
     "output_type": "stream",
     "text": [
      "{'p', 'l', 'e', 'd', 'h', 'a', 'i'}\n"
     ]
    }
   ],
   "source": [
    "print(a)"
   ]
  },
  {
   "cell_type": "code",
   "execution_count": 26,
   "id": "13e2b931",
   "metadata": {},
   "outputs": [
    {
     "name": "stdout",
     "output_type": "stream",
     "text": [
      "{'p', 'l', 'd', 'h', 'o', 'i', 'n'}\n"
     ]
    }
   ],
   "source": [
    "print(b)"
   ]
  },
  {
   "cell_type": "code",
   "execution_count": 27,
   "id": "123ae9d9",
   "metadata": {},
   "outputs": [
    {
     "name": "stdout",
     "output_type": "stream",
     "text": [
      "{'e', 'a'}\n"
     ]
    }
   ],
   "source": [
    "print(a-b)"
   ]
  },
  {
   "cell_type": "code",
   "execution_count": 30,
   "id": "7686f25e",
   "metadata": {},
   "outputs": [
    {
     "name": "stdout",
     "output_type": "stream",
     "text": [
      "{'e', 'a'}\n"
     ]
    }
   ],
   "source": [
    "print(a.difference(b)) # | işareti yapmak için ctrl + alt ile beraber tire işareti"
   ]
  },
  {
   "cell_type": "code",
   "execution_count": 31,
   "id": "f27f475e",
   "metadata": {},
   "outputs": [
    {
     "name": "stdout",
     "output_type": "stream",
     "text": [
      "{'p', 'l', 'e', 'd', 'h', 'o', 'a', 'i', 'n'}\n"
     ]
    }
   ],
   "source": [
    "print(a | b)"
   ]
  },
  {
   "cell_type": "code",
   "execution_count": 32,
   "id": "84e0ea28",
   "metadata": {},
   "outputs": [],
   "source": [
    "a = {\"carnation\", \"orchid\", \"rose\", \"violet\"}\n",
    "b = {\"rose\", \"orchid\", \"rose\", \"violet\", \"carnation\"}"
   ]
  },
  {
   "cell_type": "code",
   "execution_count": 33,
   "id": "b339ee61",
   "metadata": {},
   "outputs": [
    {
     "data": {
      "text/plain": [
       "True"
      ]
     },
     "execution_count": 33,
     "metadata": {},
     "output_type": "execute_result"
    }
   ],
   "source": [
    "a == b"
   ]
  },
  {
   "cell_type": "code",
   "execution_count": 34,
   "id": "edf244dd",
   "metadata": {},
   "outputs": [],
   "source": [
    "date = \"12/07/2021\"\n",
    "date2 = {\"09/01/2021\"}"
   ]
  },
  {
   "cell_type": "code",
   "execution_count": 40,
   "id": "54561554",
   "metadata": {},
   "outputs": [
    {
     "name": "stdout",
     "output_type": "stream",
     "text": [
      "12/072021\n"
     ]
    },
    {
     "data": {
      "text/plain": [
       "{'09/01/2021'}"
      ]
     },
     "execution_count": 40,
     "metadata": {},
     "output_type": "execute_result"
    }
   ],
   "source": [
    "print(date)\n",
    "set(date2)"
   ]
  },
  {
   "cell_type": "code",
   "execution_count": 37,
   "id": "e4fdfac1",
   "metadata": {},
   "outputs": [],
   "source": [
    "given_list = [1, 2, 3, 3, 3, 4, 4, 5, 5]\n",
    "unique = set(given_list)"
   ]
  },
  {
   "cell_type": "code",
   "execution_count": 38,
   "id": "71e33e31",
   "metadata": {},
   "outputs": [
    {
     "name": "stdout",
     "output_type": "stream",
     "text": [
      "{1, 2, 3, 4, 5}\n"
     ]
    }
   ],
   "source": [
    "print(unique)"
   ]
  },
  {
   "cell_type": "code",
   "execution_count": 46,
   "id": "81b7a46e",
   "metadata": {},
   "outputs": [],
   "source": [
    "usa_capital = set(\"Washington\")"
   ]
  },
  {
   "cell_type": "code",
   "execution_count": 47,
   "id": "a9f98811",
   "metadata": {},
   "outputs": [],
   "source": [
    "nz_capital = set(\"Wellington\")"
   ]
  },
  {
   "cell_type": "code",
   "execution_count": 48,
   "id": "94d45df7",
   "metadata": {},
   "outputs": [
    {
     "name": "stdout",
     "output_type": "stream",
     "text": [
      "{'h', 's', 'a'}\n"
     ]
    }
   ],
   "source": [
    "print(usa_capital - nz_capital)"
   ]
  },
  {
   "cell_type": "code",
   "execution_count": 49,
   "id": "8e69a44b",
   "metadata": {},
   "outputs": [
    {
     "name": "stdout",
     "output_type": "stream",
     "text": [
      "hello world\n"
     ]
    }
   ],
   "source": [
    "if \"0\" :\n",
    "    print(\"hello world\")"
   ]
  },
  {
   "cell_type": "code",
   "execution_count": 50,
   "id": "15b66074",
   "metadata": {},
   "outputs": [],
   "source": [
    "if 0 :\n",
    "    print(\"hello world\") # true durumda çıktı verir false çıktı vermez. "
   ]
  },
  {
   "cell_type": "code",
   "execution_count": 51,
   "id": "a7f753af",
   "metadata": {},
   "outputs": [
    {
     "name": "stdout",
     "output_type": "stream",
     "text": [
      "it is true\n"
     ]
    }
   ],
   "source": [
    "if True : \n",
    "    print(\"it is true\")"
   ]
  },
  {
   "cell_type": "code",
   "execution_count": 53,
   "id": "67a0a9ac",
   "metadata": {},
   "outputs": [],
   "source": [
    "# Hamburger Yapılışı\n",
    "minced = True\n",
    "bread = True\n",
    "#green\n",
    "lettuce = True\n",
    "onion = True\n",
    "grocer = True"
   ]
  },
  {
   "cell_type": "code",
   "execution_count": 54,
   "id": "e832b5f8",
   "metadata": {},
   "outputs": [],
   "source": [
    "hamburger = (minced and grocer and bread) and (lettuce or onion)"
   ]
  },
  {
   "cell_type": "code",
   "execution_count": 55,
   "id": "21d407a3",
   "metadata": {},
   "outputs": [
    {
     "name": "stdout",
     "output_type": "stream",
     "text": [
      "Bon Appetit!\n"
     ]
    }
   ],
   "source": [
    "if hamburger : \n",
    "    print(\"Bon Appetit!\")"
   ]
  },
  {
   "cell_type": "code",
   "execution_count": 71,
   "id": "94518a82",
   "metadata": {},
   "outputs": [],
   "source": [
    "a = set(\"TWELVE PLUS ONE\")\n",
    "b = set(\"ELEVEN PLUS TWO\")\n"
   ]
  },
  {
   "cell_type": "code",
   "execution_count": 73,
   "id": "9fdaa849",
   "metadata": {},
   "outputs": [
    {
     "data": {
      "text/plain": [
       "{' ', 'E', 'L', 'N', 'O', 'P', 'S', 'T', 'U', 'V', 'W'}"
      ]
     },
     "execution_count": 73,
     "metadata": {},
     "output_type": "execute_result"
    }
   ],
   "source": [
    "a"
   ]
  },
  {
   "cell_type": "code",
   "execution_count": 74,
   "id": "3efeeb5f",
   "metadata": {},
   "outputs": [
    {
     "data": {
      "text/plain": [
       "{' ', 'E', 'L', 'N', 'O', 'P', 'S', 'T', 'U', 'V', 'W'}"
      ]
     },
     "execution_count": 74,
     "metadata": {},
     "output_type": "execute_result"
    }
   ],
   "source": [
    "b"
   ]
  },
  {
   "cell_type": "code",
   "execution_count": 75,
   "id": "8f19ddda",
   "metadata": {},
   "outputs": [
    {
     "data": {
      "text/plain": [
       "True"
      ]
     },
     "execution_count": 75,
     "metadata": {},
     "output_type": "execute_result"
    }
   ],
   "source": [
    "a == b"
   ]
  },
  {
   "cell_type": "code",
   "execution_count": 80,
   "id": "9b7cd27b",
   "metadata": {},
   "outputs": [
    {
     "name": "stdout",
     "output_type": "stream",
     "text": [
      "We are the same!\n"
     ]
    }
   ],
   "source": [
    "if a == b : \n",
    "    print(\"We are the same!\")\n",
    "else :\n",
    "    print(\"dın dın dııı\")\n"
   ]
  },
  {
   "cell_type": "code",
   "execution_count": 89,
   "id": "2f35db4d",
   "metadata": {},
   "outputs": [
    {
     "name": "stdout",
     "output_type": "stream",
     "text": [
      "enter yes or no :Yes\n"
     ]
    }
   ],
   "source": [
    "convert = input(\"enter yes or no :\").title().strip() == \"Yes\""
   ]
  },
  {
   "cell_type": "code",
   "execution_count": null,
   "id": "c83c38f5",
   "metadata": {},
   "outputs": [],
   "source": [
    "print(type(convert))\n",
    "print(convert)"
   ]
  },
  {
   "cell_type": "code",
   "execution_count": 90,
   "id": "d0830f57",
   "metadata": {},
   "outputs": [
    {
     "name": "stdout",
     "output_type": "stream",
     "text": [
      "You entered True\n"
     ]
    }
   ],
   "source": [
    "print(\"You entered\", convert)"
   ]
  },
  {
   "cell_type": "code",
   "execution_count": 95,
   "id": "b96a9914",
   "metadata": {},
   "outputs": [
    {
     "ename": "SyntaxError",
     "evalue": "invalid syntax (<ipython-input-95-917110eedd4f>, line 4)",
     "output_type": "error",
     "traceback": [
      "\u001b[1;36m  File \u001b[1;32m\"<ipython-input-95-917110eedd4f>\"\u001b[1;36m, line \u001b[1;32m4\u001b[0m\n\u001b[1;33m    print(\"Girmiş olduğunuz sayı ({}) Çifttir.\"format(num))\u001b[0m\n\u001b[1;37m                                               ^\u001b[0m\n\u001b[1;31mSyntaxError\u001b[0m\u001b[1;31m:\u001b[0m invalid syntax\n"
     ]
    }
   ],
   "source": [
    "num = int(input(\"Enter a number please :\"))\n",
    "\n",
    "if num % 2 == 0 :\n",
    "    print(\"Girmiş olduğunuz sayı ({}) Çifttir.\"format(num))\n",
    "\n",
    "    "
   ]
  },
  {
   "cell_type": "code",
   "execution_count": null,
   "id": "eeea00a5",
   "metadata": {},
   "outputs": [],
   "source": []
  }
 ],
 "metadata": {
  "kernelspec": {
   "display_name": "Python 3",
   "language": "python",
   "name": "python3"
  },
  "language_info": {
   "codemirror_mode": {
    "name": "ipython",
    "version": 3
   },
   "file_extension": ".py",
   "mimetype": "text/x-python",
   "name": "python",
   "nbconvert_exporter": "python",
   "pygments_lexer": "ipython3",
   "version": "3.8.8"
  }
 },
 "nbformat": 4,
 "nbformat_minor": 5
}
